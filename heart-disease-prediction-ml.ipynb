{
 "cells": [
  {
   "cell_type": "code",
   "execution_count": 1,
   "id": "59946798",
   "metadata": {
    "execution": {
     "iopub.execute_input": "2024-04-22T20:10:47.501136Z",
     "iopub.status.busy": "2024-04-22T20:10:47.500742Z",
     "iopub.status.idle": "2024-04-22T20:10:48.505467Z",
     "shell.execute_reply": "2024-04-22T20:10:48.504218Z"
    },
    "id": "YU4jFrGVmh2c",
    "papermill": {
     "duration": 1.018001,
     "end_time": "2024-04-22T20:10:48.508336",
     "exception": false,
     "start_time": "2024-04-22T20:10:47.490335",
     "status": "completed"
    },
    "tags": []
   },
   "outputs": [],
   "source": [
    "import pandas as pd\n",
    "import numpy as np\n",
    "import matplotlib.pyplot as plt\n",
    "import warnings \n",
    "import requests as r"
   ]
  },
  {
   "cell_type": "code",
   "execution_count": 2,
   "id": "15225254",
   "metadata": {
    "execution": {
     "iopub.execute_input": "2024-04-22T20:10:48.527787Z",
     "iopub.status.busy": "2024-04-22T20:10:48.526882Z",
     "iopub.status.idle": "2024-04-22T20:10:48.553865Z",
     "shell.execute_reply": "2024-04-22T20:10:48.552868Z"
    },
    "id": "DayqE2hQm5ZQ",
    "papermill": {
     "duration": 0.039123,
     "end_time": "2024-04-22T20:10:48.556243",
     "exception": false,
     "start_time": "2024-04-22T20:10:48.517120",
     "status": "completed"
    },
    "tags": []
   },
   "outputs": [],
   "source": [
    "data = pd.read_csv('/kaggle/input/heart-failure-prediction/heart.csv')"
   ]
  },
  {
   "cell_type": "code",
   "execution_count": 3,
   "id": "0aeefd85",
   "metadata": {
    "execution": {
     "iopub.execute_input": "2024-04-22T20:10:48.574799Z",
     "iopub.status.busy": "2024-04-22T20:10:48.574217Z",
     "iopub.status.idle": "2024-04-22T20:10:48.601989Z",
     "shell.execute_reply": "2024-04-22T20:10:48.601150Z"
    },
    "id": "2s-hiCFFm89h",
    "outputId": "9562e480-487c-4ee6-8dcd-ffd860c0dcc3",
    "papermill": {
     "duration": 0.039482,
     "end_time": "2024-04-22T20:10:48.604043",
     "exception": false,
     "start_time": "2024-04-22T20:10:48.564561",
     "status": "completed"
    },
    "tags": []
   },
   "outputs": [
    {
     "data": {
      "text/html": [
       "<div>\n",
       "<style scoped>\n",
       "    .dataframe tbody tr th:only-of-type {\n",
       "        vertical-align: middle;\n",
       "    }\n",
       "\n",
       "    .dataframe tbody tr th {\n",
       "        vertical-align: top;\n",
       "    }\n",
       "\n",
       "    .dataframe thead th {\n",
       "        text-align: right;\n",
       "    }\n",
       "</style>\n",
       "<table border=\"1\" class=\"dataframe\">\n",
       "  <thead>\n",
       "    <tr style=\"text-align: right;\">\n",
       "      <th></th>\n",
       "      <th>Age</th>\n",
       "      <th>Sex</th>\n",
       "      <th>ChestPainType</th>\n",
       "      <th>RestingBP</th>\n",
       "      <th>Cholesterol</th>\n",
       "      <th>FastingBS</th>\n",
       "      <th>RestingECG</th>\n",
       "      <th>MaxHR</th>\n",
       "      <th>ExerciseAngina</th>\n",
       "      <th>Oldpeak</th>\n",
       "      <th>ST_Slope</th>\n",
       "      <th>HeartDisease</th>\n",
       "    </tr>\n",
       "  </thead>\n",
       "  <tbody>\n",
       "    <tr>\n",
       "      <th>0</th>\n",
       "      <td>40</td>\n",
       "      <td>M</td>\n",
       "      <td>ATA</td>\n",
       "      <td>140</td>\n",
       "      <td>289</td>\n",
       "      <td>0</td>\n",
       "      <td>Normal</td>\n",
       "      <td>172</td>\n",
       "      <td>N</td>\n",
       "      <td>0.0</td>\n",
       "      <td>Up</td>\n",
       "      <td>0</td>\n",
       "    </tr>\n",
       "    <tr>\n",
       "      <th>1</th>\n",
       "      <td>49</td>\n",
       "      <td>F</td>\n",
       "      <td>NAP</td>\n",
       "      <td>160</td>\n",
       "      <td>180</td>\n",
       "      <td>0</td>\n",
       "      <td>Normal</td>\n",
       "      <td>156</td>\n",
       "      <td>N</td>\n",
       "      <td>1.0</td>\n",
       "      <td>Flat</td>\n",
       "      <td>1</td>\n",
       "    </tr>\n",
       "    <tr>\n",
       "      <th>2</th>\n",
       "      <td>37</td>\n",
       "      <td>M</td>\n",
       "      <td>ATA</td>\n",
       "      <td>130</td>\n",
       "      <td>283</td>\n",
       "      <td>0</td>\n",
       "      <td>ST</td>\n",
       "      <td>98</td>\n",
       "      <td>N</td>\n",
       "      <td>0.0</td>\n",
       "      <td>Up</td>\n",
       "      <td>0</td>\n",
       "    </tr>\n",
       "    <tr>\n",
       "      <th>3</th>\n",
       "      <td>48</td>\n",
       "      <td>F</td>\n",
       "      <td>ASY</td>\n",
       "      <td>138</td>\n",
       "      <td>214</td>\n",
       "      <td>0</td>\n",
       "      <td>Normal</td>\n",
       "      <td>108</td>\n",
       "      <td>Y</td>\n",
       "      <td>1.5</td>\n",
       "      <td>Flat</td>\n",
       "      <td>1</td>\n",
       "    </tr>\n",
       "    <tr>\n",
       "      <th>4</th>\n",
       "      <td>54</td>\n",
       "      <td>M</td>\n",
       "      <td>NAP</td>\n",
       "      <td>150</td>\n",
       "      <td>195</td>\n",
       "      <td>0</td>\n",
       "      <td>Normal</td>\n",
       "      <td>122</td>\n",
       "      <td>N</td>\n",
       "      <td>0.0</td>\n",
       "      <td>Up</td>\n",
       "      <td>0</td>\n",
       "    </tr>\n",
       "  </tbody>\n",
       "</table>\n",
       "</div>"
      ],
      "text/plain": [
       "   Age Sex ChestPainType  RestingBP  Cholesterol  FastingBS RestingECG  MaxHR  \\\n",
       "0   40   M           ATA        140          289          0     Normal    172   \n",
       "1   49   F           NAP        160          180          0     Normal    156   \n",
       "2   37   M           ATA        130          283          0         ST     98   \n",
       "3   48   F           ASY        138          214          0     Normal    108   \n",
       "4   54   M           NAP        150          195          0     Normal    122   \n",
       "\n",
       "  ExerciseAngina  Oldpeak ST_Slope  HeartDisease  \n",
       "0              N      0.0       Up             0  \n",
       "1              N      1.0     Flat             1  \n",
       "2              N      0.0       Up             0  \n",
       "3              Y      1.5     Flat             1  \n",
       "4              N      0.0       Up             0  "
      ]
     },
     "execution_count": 3,
     "metadata": {},
     "output_type": "execute_result"
    }
   ],
   "source": [
    "data.head()"
   ]
  },
  {
   "cell_type": "code",
   "execution_count": 4,
   "id": "afb05235",
   "metadata": {
    "execution": {
     "iopub.execute_input": "2024-04-22T20:10:48.623306Z",
     "iopub.status.busy": "2024-04-22T20:10:48.622888Z",
     "iopub.status.idle": "2024-04-22T20:10:48.628526Z",
     "shell.execute_reply": "2024-04-22T20:10:48.627725Z"
    },
    "id": "pj-woO3Em9kg",
    "outputId": "5cf641cd-2ab1-4546-e083-abcc2f67d4be",
    "papermill": {
     "duration": 0.017778,
     "end_time": "2024-04-22T20:10:48.630435",
     "exception": false,
     "start_time": "2024-04-22T20:10:48.612657",
     "status": "completed"
    },
    "tags": []
   },
   "outputs": [
    {
     "data": {
      "text/plain": [
       "(918, 12)"
      ]
     },
     "execution_count": 4,
     "metadata": {},
     "output_type": "execute_result"
    }
   ],
   "source": [
    "data.shape"
   ]
  },
  {
   "cell_type": "code",
   "execution_count": 5,
   "id": "a61c6fbd",
   "metadata": {
    "execution": {
     "iopub.execute_input": "2024-04-22T20:10:48.650127Z",
     "iopub.status.busy": "2024-04-22T20:10:48.649468Z",
     "iopub.status.idle": "2024-04-22T20:10:48.657386Z",
     "shell.execute_reply": "2024-04-22T20:10:48.656314Z"
    },
    "id": "_eJbe0o0m_6K",
    "outputId": "f90f3a2d-4627-43f1-a012-53877f8eb99c",
    "papermill": {
     "duration": 0.020328,
     "end_time": "2024-04-22T20:10:48.659720",
     "exception": false,
     "start_time": "2024-04-22T20:10:48.639392",
     "status": "completed"
    },
    "tags": []
   },
   "outputs": [
    {
     "data": {
      "text/plain": [
       "11016"
      ]
     },
     "execution_count": 5,
     "metadata": {},
     "output_type": "execute_result"
    }
   ],
   "source": [
    "data.size"
   ]
  },
  {
   "cell_type": "code",
   "execution_count": 6,
   "id": "4bc6c96a",
   "metadata": {
    "execution": {
     "iopub.execute_input": "2024-04-22T20:10:48.678743Z",
     "iopub.status.busy": "2024-04-22T20:10:48.678347Z",
     "iopub.status.idle": "2024-04-22T20:10:48.712220Z",
     "shell.execute_reply": "2024-04-22T20:10:48.710782Z"
    },
    "id": "CLRzSTeHnojq",
    "outputId": "4d0a801c-fd63-4f26-da5b-6fc5bb5c9096",
    "papermill": {
     "duration": 0.046051,
     "end_time": "2024-04-22T20:10:48.714547",
     "exception": false,
     "start_time": "2024-04-22T20:10:48.668496",
     "status": "completed"
    },
    "tags": []
   },
   "outputs": [
    {
     "data": {
      "text/html": [
       "<div>\n",
       "<style scoped>\n",
       "    .dataframe tbody tr th:only-of-type {\n",
       "        vertical-align: middle;\n",
       "    }\n",
       "\n",
       "    .dataframe tbody tr th {\n",
       "        vertical-align: top;\n",
       "    }\n",
       "\n",
       "    .dataframe thead th {\n",
       "        text-align: right;\n",
       "    }\n",
       "</style>\n",
       "<table border=\"1\" class=\"dataframe\">\n",
       "  <thead>\n",
       "    <tr style=\"text-align: right;\">\n",
       "      <th></th>\n",
       "      <th>Age</th>\n",
       "      <th>RestingBP</th>\n",
       "      <th>Cholesterol</th>\n",
       "      <th>FastingBS</th>\n",
       "      <th>MaxHR</th>\n",
       "      <th>Oldpeak</th>\n",
       "      <th>HeartDisease</th>\n",
       "    </tr>\n",
       "  </thead>\n",
       "  <tbody>\n",
       "    <tr>\n",
       "      <th>count</th>\n",
       "      <td>918.000000</td>\n",
       "      <td>918.000000</td>\n",
       "      <td>918.000000</td>\n",
       "      <td>918.000000</td>\n",
       "      <td>918.000000</td>\n",
       "      <td>918.000000</td>\n",
       "      <td>918.000000</td>\n",
       "    </tr>\n",
       "    <tr>\n",
       "      <th>mean</th>\n",
       "      <td>53.510893</td>\n",
       "      <td>132.396514</td>\n",
       "      <td>198.799564</td>\n",
       "      <td>0.233115</td>\n",
       "      <td>136.809368</td>\n",
       "      <td>0.887364</td>\n",
       "      <td>0.553377</td>\n",
       "    </tr>\n",
       "    <tr>\n",
       "      <th>std</th>\n",
       "      <td>9.432617</td>\n",
       "      <td>18.514154</td>\n",
       "      <td>109.384145</td>\n",
       "      <td>0.423046</td>\n",
       "      <td>25.460334</td>\n",
       "      <td>1.066570</td>\n",
       "      <td>0.497414</td>\n",
       "    </tr>\n",
       "    <tr>\n",
       "      <th>min</th>\n",
       "      <td>28.000000</td>\n",
       "      <td>0.000000</td>\n",
       "      <td>0.000000</td>\n",
       "      <td>0.000000</td>\n",
       "      <td>60.000000</td>\n",
       "      <td>-2.600000</td>\n",
       "      <td>0.000000</td>\n",
       "    </tr>\n",
       "    <tr>\n",
       "      <th>25%</th>\n",
       "      <td>47.000000</td>\n",
       "      <td>120.000000</td>\n",
       "      <td>173.250000</td>\n",
       "      <td>0.000000</td>\n",
       "      <td>120.000000</td>\n",
       "      <td>0.000000</td>\n",
       "      <td>0.000000</td>\n",
       "    </tr>\n",
       "    <tr>\n",
       "      <th>50%</th>\n",
       "      <td>54.000000</td>\n",
       "      <td>130.000000</td>\n",
       "      <td>223.000000</td>\n",
       "      <td>0.000000</td>\n",
       "      <td>138.000000</td>\n",
       "      <td>0.600000</td>\n",
       "      <td>1.000000</td>\n",
       "    </tr>\n",
       "    <tr>\n",
       "      <th>75%</th>\n",
       "      <td>60.000000</td>\n",
       "      <td>140.000000</td>\n",
       "      <td>267.000000</td>\n",
       "      <td>0.000000</td>\n",
       "      <td>156.000000</td>\n",
       "      <td>1.500000</td>\n",
       "      <td>1.000000</td>\n",
       "    </tr>\n",
       "    <tr>\n",
       "      <th>max</th>\n",
       "      <td>77.000000</td>\n",
       "      <td>200.000000</td>\n",
       "      <td>603.000000</td>\n",
       "      <td>1.000000</td>\n",
       "      <td>202.000000</td>\n",
       "      <td>6.200000</td>\n",
       "      <td>1.000000</td>\n",
       "    </tr>\n",
       "  </tbody>\n",
       "</table>\n",
       "</div>"
      ],
      "text/plain": [
       "              Age   RestingBP  Cholesterol   FastingBS       MaxHR  \\\n",
       "count  918.000000  918.000000   918.000000  918.000000  918.000000   \n",
       "mean    53.510893  132.396514   198.799564    0.233115  136.809368   \n",
       "std      9.432617   18.514154   109.384145    0.423046   25.460334   \n",
       "min     28.000000    0.000000     0.000000    0.000000   60.000000   \n",
       "25%     47.000000  120.000000   173.250000    0.000000  120.000000   \n",
       "50%     54.000000  130.000000   223.000000    0.000000  138.000000   \n",
       "75%     60.000000  140.000000   267.000000    0.000000  156.000000   \n",
       "max     77.000000  200.000000   603.000000    1.000000  202.000000   \n",
       "\n",
       "          Oldpeak  HeartDisease  \n",
       "count  918.000000    918.000000  \n",
       "mean     0.887364      0.553377  \n",
       "std      1.066570      0.497414  \n",
       "min     -2.600000      0.000000  \n",
       "25%      0.000000      0.000000  \n",
       "50%      0.600000      1.000000  \n",
       "75%      1.500000      1.000000  \n",
       "max      6.200000      1.000000  "
      ]
     },
     "execution_count": 6,
     "metadata": {},
     "output_type": "execute_result"
    }
   ],
   "source": [
    "data.describe()"
   ]
  },
  {
   "cell_type": "code",
   "execution_count": 7,
   "id": "5e22764b",
   "metadata": {
    "execution": {
     "iopub.execute_input": "2024-04-22T20:10:48.735649Z",
     "iopub.status.busy": "2024-04-22T20:10:48.735252Z",
     "iopub.status.idle": "2024-04-22T20:10:48.759078Z",
     "shell.execute_reply": "2024-04-22T20:10:48.757482Z"
    },
    "id": "-nLM2upZnlvd",
    "outputId": "ff179005-e3b4-4fe1-c272-7b89cafeee98",
    "papermill": {
     "duration": 0.036696,
     "end_time": "2024-04-22T20:10:48.761515",
     "exception": false,
     "start_time": "2024-04-22T20:10:48.724819",
     "status": "completed"
    },
    "tags": []
   },
   "outputs": [
    {
     "name": "stdout",
     "output_type": "stream",
     "text": [
      "<class 'pandas.core.frame.DataFrame'>\n",
      "RangeIndex: 918 entries, 0 to 917\n",
      "Data columns (total 12 columns):\n",
      " #   Column          Non-Null Count  Dtype  \n",
      "---  ------          --------------  -----  \n",
      " 0   Age             918 non-null    int64  \n",
      " 1   Sex             918 non-null    object \n",
      " 2   ChestPainType   918 non-null    object \n",
      " 3   RestingBP       918 non-null    int64  \n",
      " 4   Cholesterol     918 non-null    int64  \n",
      " 5   FastingBS       918 non-null    int64  \n",
      " 6   RestingECG      918 non-null    object \n",
      " 7   MaxHR           918 non-null    int64  \n",
      " 8   ExerciseAngina  918 non-null    object \n",
      " 9   Oldpeak         918 non-null    float64\n",
      " 10  ST_Slope        918 non-null    object \n",
      " 11  HeartDisease    918 non-null    int64  \n",
      "dtypes: float64(1), int64(6), object(5)\n",
      "memory usage: 86.2+ KB\n"
     ]
    }
   ],
   "source": [
    "data.info()"
   ]
  },
  {
   "cell_type": "code",
   "execution_count": 8,
   "id": "4c5b2a20",
   "metadata": {
    "execution": {
     "iopub.execute_input": "2024-04-22T20:10:48.781904Z",
     "iopub.status.busy": "2024-04-22T20:10:48.781521Z",
     "iopub.status.idle": "2024-04-22T20:10:48.786273Z",
     "shell.execute_reply": "2024-04-22T20:10:48.785121Z"
    },
    "id": "R8WT2GKfnrSz",
    "papermill": {
     "duration": 0.017696,
     "end_time": "2024-04-22T20:10:48.788462",
     "exception": false,
     "start_time": "2024-04-22T20:10:48.770766",
     "status": "completed"
    },
    "tags": []
   },
   "outputs": [],
   "source": [
    "mydata = data.copy()"
   ]
  },
  {
   "cell_type": "code",
   "execution_count": 9,
   "id": "e6cb8dc7",
   "metadata": {
    "execution": {
     "iopub.execute_input": "2024-04-22T20:10:48.809106Z",
     "iopub.status.busy": "2024-04-22T20:10:48.808493Z",
     "iopub.status.idle": "2024-04-22T20:10:48.833707Z",
     "shell.execute_reply": "2024-04-22T20:10:48.832099Z"
    },
    "id": "8p0chq5qnyjQ",
    "outputId": "b0b7efa9-1d21-4f61-f051-c36b1c33d7ea",
    "papermill": {
     "duration": 0.03864,
     "end_time": "2024-04-22T20:10:48.836632",
     "exception": false,
     "start_time": "2024-04-22T20:10:48.797992",
     "status": "completed"
    },
    "tags": []
   },
   "outputs": [
    {
     "name": "stdout",
     "output_type": "stream",
     "text": [
      "     Age  RestingBP  Cholesterol  FastingBS  MaxHR  Oldpeak  HeartDisease  \\\n",
      "0     40        140          289          0    172      0.0             0   \n",
      "1     49        160          180          0    156      1.0             1   \n",
      "2     37        130          283          0     98      0.0             0   \n",
      "3     48        138          214          0    108      1.5             1   \n",
      "4     54        150          195          0    122      0.0             0   \n",
      "..   ...        ...          ...        ...    ...      ...           ...   \n",
      "913   45        110          264          0    132      1.2             1   \n",
      "914   68        144          193          1    141      3.4             1   \n",
      "915   57        130          131          0    115      1.2             1   \n",
      "916   57        130          236          0    174      0.0             1   \n",
      "917   38        138          175          0    173      0.0             0   \n",
      "\n",
      "     Sex_F  Sex_M  ChestPainType_ASY  ...  ChestPainType_NAP  \\\n",
      "0    False   True              False  ...              False   \n",
      "1     True  False              False  ...               True   \n",
      "2    False   True              False  ...              False   \n",
      "3     True  False               True  ...              False   \n",
      "4    False   True              False  ...               True   \n",
      "..     ...    ...                ...  ...                ...   \n",
      "913  False   True              False  ...              False   \n",
      "914  False   True               True  ...              False   \n",
      "915  False   True               True  ...              False   \n",
      "916   True  False              False  ...              False   \n",
      "917  False   True              False  ...               True   \n",
      "\n",
      "     ChestPainType_TA  RestingECG_LVH  RestingECG_Normal  RestingECG_ST  \\\n",
      "0               False           False               True          False   \n",
      "1               False           False               True          False   \n",
      "2               False           False              False           True   \n",
      "3               False           False               True          False   \n",
      "4               False           False               True          False   \n",
      "..                ...             ...                ...            ...   \n",
      "913              True           False               True          False   \n",
      "914             False           False               True          False   \n",
      "915             False           False               True          False   \n",
      "916             False            True              False          False   \n",
      "917             False           False               True          False   \n",
      "\n",
      "     ExerciseAngina_N  ExerciseAngina_Y  ST_Slope_Down  ST_Slope_Flat  \\\n",
      "0                True             False          False          False   \n",
      "1                True             False          False           True   \n",
      "2                True             False          False          False   \n",
      "3               False              True          False           True   \n",
      "4                True             False          False          False   \n",
      "..                ...               ...            ...            ...   \n",
      "913              True             False          False           True   \n",
      "914              True             False          False           True   \n",
      "915             False              True          False           True   \n",
      "916              True             False          False           True   \n",
      "917              True             False          False          False   \n",
      "\n",
      "     ST_Slope_Up  \n",
      "0           True  \n",
      "1          False  \n",
      "2           True  \n",
      "3          False  \n",
      "4           True  \n",
      "..           ...  \n",
      "913        False  \n",
      "914        False  \n",
      "915        False  \n",
      "916        False  \n",
      "917         True  \n",
      "\n",
      "[918 rows x 21 columns]\n"
     ]
    }
   ],
   "source": [
    "warnings.filterwarnings(\"ignore\")\n",
    "object_cols = data.select_dtypes(include=['object']).columns\n",
    "encoded_data = pd.get_dummies(data[object_cols])\n",
    "result_data = pd.concat([data.drop(columns=object_cols), encoded_data], axis=1)\n",
    "warnings.filterwarnings(\"ignore\")\n",
    "print(result_data)"
   ]
  },
  {
   "cell_type": "code",
   "execution_count": 10,
   "id": "855a019a",
   "metadata": {
    "execution": {
     "iopub.execute_input": "2024-04-22T20:10:48.858112Z",
     "iopub.status.busy": "2024-04-22T20:10:48.857479Z",
     "iopub.status.idle": "2024-04-22T20:10:48.870797Z",
     "shell.execute_reply": "2024-04-22T20:10:48.869578Z"
    },
    "id": "iURHvc9ioew_",
    "papermill": {
     "duration": 0.027322,
     "end_time": "2024-04-22T20:10:48.873472",
     "exception": false,
     "start_time": "2024-04-22T20:10:48.846150",
     "status": "completed"
    },
    "tags": []
   },
   "outputs": [],
   "source": [
    "result_data.to_csv('encoded_data.csv',index = False)"
   ]
  },
  {
   "cell_type": "code",
   "execution_count": 11,
   "id": "98d8cd95",
   "metadata": {
    "execution": {
     "iopub.execute_input": "2024-04-22T20:10:48.893951Z",
     "iopub.status.busy": "2024-04-22T20:10:48.893549Z",
     "iopub.status.idle": "2024-04-22T20:10:48.902875Z",
     "shell.execute_reply": "2024-04-22T20:10:48.902094Z"
    },
    "id": "K2QVxkxYonqI",
    "papermill": {
     "duration": 0.022391,
     "end_time": "2024-04-22T20:10:48.905233",
     "exception": false,
     "start_time": "2024-04-22T20:10:48.882842",
     "status": "completed"
    },
    "tags": []
   },
   "outputs": [],
   "source": [
    "encoded_data = pd.read_csv('encoded_data.csv')"
   ]
  },
  {
   "cell_type": "code",
   "execution_count": 12,
   "id": "3e3b3333",
   "metadata": {
    "execution": {
     "iopub.execute_input": "2024-04-22T20:10:48.926126Z",
     "iopub.status.busy": "2024-04-22T20:10:48.925710Z",
     "iopub.status.idle": "2024-04-22T20:10:48.947302Z",
     "shell.execute_reply": "2024-04-22T20:10:48.946159Z"
    },
    "id": "i0Lz0ybJoqEH",
    "outputId": "edaa73f2-17f4-4ebf-cbbc-24af1ab49cf7",
    "papermill": {
     "duration": 0.034371,
     "end_time": "2024-04-22T20:10:48.949696",
     "exception": false,
     "start_time": "2024-04-22T20:10:48.915325",
     "status": "completed"
    },
    "tags": []
   },
   "outputs": [
    {
     "data": {
      "text/html": [
       "<div>\n",
       "<style scoped>\n",
       "    .dataframe tbody tr th:only-of-type {\n",
       "        vertical-align: middle;\n",
       "    }\n",
       "\n",
       "    .dataframe tbody tr th {\n",
       "        vertical-align: top;\n",
       "    }\n",
       "\n",
       "    .dataframe thead th {\n",
       "        text-align: right;\n",
       "    }\n",
       "</style>\n",
       "<table border=\"1\" class=\"dataframe\">\n",
       "  <thead>\n",
       "    <tr style=\"text-align: right;\">\n",
       "      <th></th>\n",
       "      <th>Age</th>\n",
       "      <th>RestingBP</th>\n",
       "      <th>Cholesterol</th>\n",
       "      <th>FastingBS</th>\n",
       "      <th>MaxHR</th>\n",
       "      <th>Oldpeak</th>\n",
       "      <th>HeartDisease</th>\n",
       "      <th>Sex_F</th>\n",
       "      <th>Sex_M</th>\n",
       "      <th>ChestPainType_ASY</th>\n",
       "      <th>...</th>\n",
       "      <th>ChestPainType_NAP</th>\n",
       "      <th>ChestPainType_TA</th>\n",
       "      <th>RestingECG_LVH</th>\n",
       "      <th>RestingECG_Normal</th>\n",
       "      <th>RestingECG_ST</th>\n",
       "      <th>ExerciseAngina_N</th>\n",
       "      <th>ExerciseAngina_Y</th>\n",
       "      <th>ST_Slope_Down</th>\n",
       "      <th>ST_Slope_Flat</th>\n",
       "      <th>ST_Slope_Up</th>\n",
       "    </tr>\n",
       "  </thead>\n",
       "  <tbody>\n",
       "    <tr>\n",
       "      <th>0</th>\n",
       "      <td>40</td>\n",
       "      <td>140</td>\n",
       "      <td>289</td>\n",
       "      <td>0</td>\n",
       "      <td>172</td>\n",
       "      <td>0.0</td>\n",
       "      <td>0</td>\n",
       "      <td>False</td>\n",
       "      <td>True</td>\n",
       "      <td>False</td>\n",
       "      <td>...</td>\n",
       "      <td>False</td>\n",
       "      <td>False</td>\n",
       "      <td>False</td>\n",
       "      <td>True</td>\n",
       "      <td>False</td>\n",
       "      <td>True</td>\n",
       "      <td>False</td>\n",
       "      <td>False</td>\n",
       "      <td>False</td>\n",
       "      <td>True</td>\n",
       "    </tr>\n",
       "    <tr>\n",
       "      <th>1</th>\n",
       "      <td>49</td>\n",
       "      <td>160</td>\n",
       "      <td>180</td>\n",
       "      <td>0</td>\n",
       "      <td>156</td>\n",
       "      <td>1.0</td>\n",
       "      <td>1</td>\n",
       "      <td>True</td>\n",
       "      <td>False</td>\n",
       "      <td>False</td>\n",
       "      <td>...</td>\n",
       "      <td>True</td>\n",
       "      <td>False</td>\n",
       "      <td>False</td>\n",
       "      <td>True</td>\n",
       "      <td>False</td>\n",
       "      <td>True</td>\n",
       "      <td>False</td>\n",
       "      <td>False</td>\n",
       "      <td>True</td>\n",
       "      <td>False</td>\n",
       "    </tr>\n",
       "    <tr>\n",
       "      <th>2</th>\n",
       "      <td>37</td>\n",
       "      <td>130</td>\n",
       "      <td>283</td>\n",
       "      <td>0</td>\n",
       "      <td>98</td>\n",
       "      <td>0.0</td>\n",
       "      <td>0</td>\n",
       "      <td>False</td>\n",
       "      <td>True</td>\n",
       "      <td>False</td>\n",
       "      <td>...</td>\n",
       "      <td>False</td>\n",
       "      <td>False</td>\n",
       "      <td>False</td>\n",
       "      <td>False</td>\n",
       "      <td>True</td>\n",
       "      <td>True</td>\n",
       "      <td>False</td>\n",
       "      <td>False</td>\n",
       "      <td>False</td>\n",
       "      <td>True</td>\n",
       "    </tr>\n",
       "    <tr>\n",
       "      <th>3</th>\n",
       "      <td>48</td>\n",
       "      <td>138</td>\n",
       "      <td>214</td>\n",
       "      <td>0</td>\n",
       "      <td>108</td>\n",
       "      <td>1.5</td>\n",
       "      <td>1</td>\n",
       "      <td>True</td>\n",
       "      <td>False</td>\n",
       "      <td>True</td>\n",
       "      <td>...</td>\n",
       "      <td>False</td>\n",
       "      <td>False</td>\n",
       "      <td>False</td>\n",
       "      <td>True</td>\n",
       "      <td>False</td>\n",
       "      <td>False</td>\n",
       "      <td>True</td>\n",
       "      <td>False</td>\n",
       "      <td>True</td>\n",
       "      <td>False</td>\n",
       "    </tr>\n",
       "    <tr>\n",
       "      <th>4</th>\n",
       "      <td>54</td>\n",
       "      <td>150</td>\n",
       "      <td>195</td>\n",
       "      <td>0</td>\n",
       "      <td>122</td>\n",
       "      <td>0.0</td>\n",
       "      <td>0</td>\n",
       "      <td>False</td>\n",
       "      <td>True</td>\n",
       "      <td>False</td>\n",
       "      <td>...</td>\n",
       "      <td>True</td>\n",
       "      <td>False</td>\n",
       "      <td>False</td>\n",
       "      <td>True</td>\n",
       "      <td>False</td>\n",
       "      <td>True</td>\n",
       "      <td>False</td>\n",
       "      <td>False</td>\n",
       "      <td>False</td>\n",
       "      <td>True</td>\n",
       "    </tr>\n",
       "  </tbody>\n",
       "</table>\n",
       "<p>5 rows × 21 columns</p>\n",
       "</div>"
      ],
      "text/plain": [
       "   Age  RestingBP  Cholesterol  FastingBS  MaxHR  Oldpeak  HeartDisease  \\\n",
       "0   40        140          289          0    172      0.0             0   \n",
       "1   49        160          180          0    156      1.0             1   \n",
       "2   37        130          283          0     98      0.0             0   \n",
       "3   48        138          214          0    108      1.5             1   \n",
       "4   54        150          195          0    122      0.0             0   \n",
       "\n",
       "   Sex_F  Sex_M  ChestPainType_ASY  ...  ChestPainType_NAP  ChestPainType_TA  \\\n",
       "0  False   True              False  ...              False             False   \n",
       "1   True  False              False  ...               True             False   \n",
       "2  False   True              False  ...              False             False   \n",
       "3   True  False               True  ...              False             False   \n",
       "4  False   True              False  ...               True             False   \n",
       "\n",
       "   RestingECG_LVH  RestingECG_Normal  RestingECG_ST  ExerciseAngina_N  \\\n",
       "0           False               True          False              True   \n",
       "1           False               True          False              True   \n",
       "2           False              False           True              True   \n",
       "3           False               True          False             False   \n",
       "4           False               True          False              True   \n",
       "\n",
       "   ExerciseAngina_Y  ST_Slope_Down  ST_Slope_Flat  ST_Slope_Up  \n",
       "0             False          False          False         True  \n",
       "1             False          False           True        False  \n",
       "2             False          False          False         True  \n",
       "3              True          False           True        False  \n",
       "4             False          False          False         True  \n",
       "\n",
       "[5 rows x 21 columns]"
      ]
     },
     "execution_count": 12,
     "metadata": {},
     "output_type": "execute_result"
    }
   ],
   "source": [
    "encoded_data.head()"
   ]
  },
  {
   "cell_type": "code",
   "execution_count": 13,
   "id": "808248a8",
   "metadata": {
    "execution": {
     "iopub.execute_input": "2024-04-22T20:10:48.971631Z",
     "iopub.status.busy": "2024-04-22T20:10:48.970832Z",
     "iopub.status.idle": "2024-04-22T20:10:48.975794Z",
     "shell.execute_reply": "2024-04-22T20:10:48.974729Z"
    },
    "id": "SlevTDjloxlE",
    "papermill": {
     "duration": 0.018366,
     "end_time": "2024-04-22T20:10:48.978025",
     "exception": false,
     "start_time": "2024-04-22T20:10:48.959659",
     "status": "completed"
    },
    "tags": []
   },
   "outputs": [],
   "source": [
    "pd.set_option('display.max_columns',None)"
   ]
  },
  {
   "cell_type": "code",
   "execution_count": 14,
   "id": "0d47cb9c",
   "metadata": {
    "execution": {
     "iopub.execute_input": "2024-04-22T20:10:48.998882Z",
     "iopub.status.busy": "2024-04-22T20:10:48.998519Z",
     "iopub.status.idle": "2024-04-22T20:10:49.019623Z",
     "shell.execute_reply": "2024-04-22T20:10:49.016908Z"
    },
    "id": "CyeYiNEso7mE",
    "outputId": "42316c61-fed5-41b7-d762-c7634902d13d",
    "papermill": {
     "duration": 0.034953,
     "end_time": "2024-04-22T20:10:49.022695",
     "exception": false,
     "start_time": "2024-04-22T20:10:48.987742",
     "status": "completed"
    },
    "tags": []
   },
   "outputs": [
    {
     "data": {
      "text/html": [
       "<div>\n",
       "<style scoped>\n",
       "    .dataframe tbody tr th:only-of-type {\n",
       "        vertical-align: middle;\n",
       "    }\n",
       "\n",
       "    .dataframe tbody tr th {\n",
       "        vertical-align: top;\n",
       "    }\n",
       "\n",
       "    .dataframe thead th {\n",
       "        text-align: right;\n",
       "    }\n",
       "</style>\n",
       "<table border=\"1\" class=\"dataframe\">\n",
       "  <thead>\n",
       "    <tr style=\"text-align: right;\">\n",
       "      <th></th>\n",
       "      <th>Age</th>\n",
       "      <th>RestingBP</th>\n",
       "      <th>Cholesterol</th>\n",
       "      <th>FastingBS</th>\n",
       "      <th>MaxHR</th>\n",
       "      <th>Oldpeak</th>\n",
       "      <th>HeartDisease</th>\n",
       "      <th>Sex_F</th>\n",
       "      <th>Sex_M</th>\n",
       "      <th>ChestPainType_ASY</th>\n",
       "      <th>ChestPainType_ATA</th>\n",
       "      <th>ChestPainType_NAP</th>\n",
       "      <th>ChestPainType_TA</th>\n",
       "      <th>RestingECG_LVH</th>\n",
       "      <th>RestingECG_Normal</th>\n",
       "      <th>RestingECG_ST</th>\n",
       "      <th>ExerciseAngina_N</th>\n",
       "      <th>ExerciseAngina_Y</th>\n",
       "      <th>ST_Slope_Down</th>\n",
       "      <th>ST_Slope_Flat</th>\n",
       "      <th>ST_Slope_Up</th>\n",
       "    </tr>\n",
       "  </thead>\n",
       "  <tbody>\n",
       "    <tr>\n",
       "      <th>913</th>\n",
       "      <td>45</td>\n",
       "      <td>110</td>\n",
       "      <td>264</td>\n",
       "      <td>0</td>\n",
       "      <td>132</td>\n",
       "      <td>1.2</td>\n",
       "      <td>1</td>\n",
       "      <td>False</td>\n",
       "      <td>True</td>\n",
       "      <td>False</td>\n",
       "      <td>False</td>\n",
       "      <td>False</td>\n",
       "      <td>True</td>\n",
       "      <td>False</td>\n",
       "      <td>True</td>\n",
       "      <td>False</td>\n",
       "      <td>True</td>\n",
       "      <td>False</td>\n",
       "      <td>False</td>\n",
       "      <td>True</td>\n",
       "      <td>False</td>\n",
       "    </tr>\n",
       "    <tr>\n",
       "      <th>914</th>\n",
       "      <td>68</td>\n",
       "      <td>144</td>\n",
       "      <td>193</td>\n",
       "      <td>1</td>\n",
       "      <td>141</td>\n",
       "      <td>3.4</td>\n",
       "      <td>1</td>\n",
       "      <td>False</td>\n",
       "      <td>True</td>\n",
       "      <td>True</td>\n",
       "      <td>False</td>\n",
       "      <td>False</td>\n",
       "      <td>False</td>\n",
       "      <td>False</td>\n",
       "      <td>True</td>\n",
       "      <td>False</td>\n",
       "      <td>True</td>\n",
       "      <td>False</td>\n",
       "      <td>False</td>\n",
       "      <td>True</td>\n",
       "      <td>False</td>\n",
       "    </tr>\n",
       "    <tr>\n",
       "      <th>915</th>\n",
       "      <td>57</td>\n",
       "      <td>130</td>\n",
       "      <td>131</td>\n",
       "      <td>0</td>\n",
       "      <td>115</td>\n",
       "      <td>1.2</td>\n",
       "      <td>1</td>\n",
       "      <td>False</td>\n",
       "      <td>True</td>\n",
       "      <td>True</td>\n",
       "      <td>False</td>\n",
       "      <td>False</td>\n",
       "      <td>False</td>\n",
       "      <td>False</td>\n",
       "      <td>True</td>\n",
       "      <td>False</td>\n",
       "      <td>False</td>\n",
       "      <td>True</td>\n",
       "      <td>False</td>\n",
       "      <td>True</td>\n",
       "      <td>False</td>\n",
       "    </tr>\n",
       "    <tr>\n",
       "      <th>916</th>\n",
       "      <td>57</td>\n",
       "      <td>130</td>\n",
       "      <td>236</td>\n",
       "      <td>0</td>\n",
       "      <td>174</td>\n",
       "      <td>0.0</td>\n",
       "      <td>1</td>\n",
       "      <td>True</td>\n",
       "      <td>False</td>\n",
       "      <td>False</td>\n",
       "      <td>True</td>\n",
       "      <td>False</td>\n",
       "      <td>False</td>\n",
       "      <td>True</td>\n",
       "      <td>False</td>\n",
       "      <td>False</td>\n",
       "      <td>True</td>\n",
       "      <td>False</td>\n",
       "      <td>False</td>\n",
       "      <td>True</td>\n",
       "      <td>False</td>\n",
       "    </tr>\n",
       "    <tr>\n",
       "      <th>917</th>\n",
       "      <td>38</td>\n",
       "      <td>138</td>\n",
       "      <td>175</td>\n",
       "      <td>0</td>\n",
       "      <td>173</td>\n",
       "      <td>0.0</td>\n",
       "      <td>0</td>\n",
       "      <td>False</td>\n",
       "      <td>True</td>\n",
       "      <td>False</td>\n",
       "      <td>False</td>\n",
       "      <td>True</td>\n",
       "      <td>False</td>\n",
       "      <td>False</td>\n",
       "      <td>True</td>\n",
       "      <td>False</td>\n",
       "      <td>True</td>\n",
       "      <td>False</td>\n",
       "      <td>False</td>\n",
       "      <td>False</td>\n",
       "      <td>True</td>\n",
       "    </tr>\n",
       "  </tbody>\n",
       "</table>\n",
       "</div>"
      ],
      "text/plain": [
       "     Age  RestingBP  Cholesterol  FastingBS  MaxHR  Oldpeak  HeartDisease  \\\n",
       "913   45        110          264          0    132      1.2             1   \n",
       "914   68        144          193          1    141      3.4             1   \n",
       "915   57        130          131          0    115      1.2             1   \n",
       "916   57        130          236          0    174      0.0             1   \n",
       "917   38        138          175          0    173      0.0             0   \n",
       "\n",
       "     Sex_F  Sex_M  ChestPainType_ASY  ChestPainType_ATA  ChestPainType_NAP  \\\n",
       "913  False   True              False              False              False   \n",
       "914  False   True               True              False              False   \n",
       "915  False   True               True              False              False   \n",
       "916   True  False              False               True              False   \n",
       "917  False   True              False              False               True   \n",
       "\n",
       "     ChestPainType_TA  RestingECG_LVH  RestingECG_Normal  RestingECG_ST  \\\n",
       "913              True           False               True          False   \n",
       "914             False           False               True          False   \n",
       "915             False           False               True          False   \n",
       "916             False            True              False          False   \n",
       "917             False           False               True          False   \n",
       "\n",
       "     ExerciseAngina_N  ExerciseAngina_Y  ST_Slope_Down  ST_Slope_Flat  \\\n",
       "913              True             False          False           True   \n",
       "914              True             False          False           True   \n",
       "915             False              True          False           True   \n",
       "916              True             False          False           True   \n",
       "917              True             False          False          False   \n",
       "\n",
       "     ST_Slope_Up  \n",
       "913        False  \n",
       "914        False  \n",
       "915        False  \n",
       "916        False  \n",
       "917         True  "
      ]
     },
     "execution_count": 14,
     "metadata": {},
     "output_type": "execute_result"
    }
   ],
   "source": [
    "encoded_data.tail()"
   ]
  },
  {
   "cell_type": "code",
   "execution_count": 15,
   "id": "d57723a3",
   "metadata": {
    "execution": {
     "iopub.execute_input": "2024-04-22T20:10:49.044535Z",
     "iopub.status.busy": "2024-04-22T20:10:49.043869Z",
     "iopub.status.idle": "2024-04-22T20:10:49.064405Z",
     "shell.execute_reply": "2024-04-22T20:10:49.063174Z"
    },
    "id": "AaEgvGUPpF1f",
    "outputId": "4f3cc818-f732-486c-e9d5-6c7bb04adf59",
    "papermill": {
     "duration": 0.034587,
     "end_time": "2024-04-22T20:10:49.067171",
     "exception": false,
     "start_time": "2024-04-22T20:10:49.032584",
     "status": "completed"
    },
    "tags": []
   },
   "outputs": [
    {
     "name": "stdout",
     "output_type": "stream",
     "text": [
      "     Age  RestingBP  Cholesterol  FastingBS  MaxHR  Oldpeak  HeartDisease  \\\n",
      "0     40        140          289          0    172      0.0             0   \n",
      "1     49        160          180          0    156      1.0             1   \n",
      "2     37        130          283          0     98      0.0             0   \n",
      "3     48        138          214          0    108      1.5             1   \n",
      "4     54        150          195          0    122      0.0             0   \n",
      "..   ...        ...          ...        ...    ...      ...           ...   \n",
      "913   45        110          264          0    132      1.2             1   \n",
      "914   68        144          193          1    141      3.4             1   \n",
      "915   57        130          131          0    115      1.2             1   \n",
      "916   57        130          236          0    174      0.0             1   \n",
      "917   38        138          175          0    173      0.0             0   \n",
      "\n",
      "     Sex_F  Sex_M  ChestPainType_ASY  ChestPainType_ATA  ChestPainType_NAP  \\\n",
      "0        0      1                  0                  1                  0   \n",
      "1        1      0                  0                  0                  1   \n",
      "2        0      1                  0                  1                  0   \n",
      "3        1      0                  1                  0                  0   \n",
      "4        0      1                  0                  0                  1   \n",
      "..     ...    ...                ...                ...                ...   \n",
      "913      0      1                  0                  0                  0   \n",
      "914      0      1                  1                  0                  0   \n",
      "915      0      1                  1                  0                  0   \n",
      "916      1      0                  0                  1                  0   \n",
      "917      0      1                  0                  0                  1   \n",
      "\n",
      "     ChestPainType_TA  RestingECG_LVH  RestingECG_Normal  RestingECG_ST  \\\n",
      "0                   0               0                  1              0   \n",
      "1                   0               0                  1              0   \n",
      "2                   0               0                  0              1   \n",
      "3                   0               0                  1              0   \n",
      "4                   0               0                  1              0   \n",
      "..                ...             ...                ...            ...   \n",
      "913                 1               0                  1              0   \n",
      "914                 0               0                  1              0   \n",
      "915                 0               0                  1              0   \n",
      "916                 0               1                  0              0   \n",
      "917                 0               0                  1              0   \n",
      "\n",
      "     ExerciseAngina_N  ExerciseAngina_Y  ST_Slope_Down  ST_Slope_Flat  \\\n",
      "0                   1                 0              0              0   \n",
      "1                   1                 0              0              1   \n",
      "2                   1                 0              0              0   \n",
      "3                   0                 1              0              1   \n",
      "4                   1                 0              0              0   \n",
      "..                ...               ...            ...            ...   \n",
      "913                 1                 0              0              1   \n",
      "914                 1                 0              0              1   \n",
      "915                 0                 1              0              1   \n",
      "916                 1                 0              0              1   \n",
      "917                 1                 0              0              0   \n",
      "\n",
      "     ST_Slope_Up  \n",
      "0              1  \n",
      "1              0  \n",
      "2              1  \n",
      "3              0  \n",
      "4              1  \n",
      "..           ...  \n",
      "913            0  \n",
      "914            0  \n",
      "915            0  \n",
      "916            0  \n",
      "917            1  \n",
      "\n",
      "[918 rows x 21 columns]\n"
     ]
    }
   ],
   "source": [
    "warnings.filterwarnings(\"ignore\")\n",
    "replacement_dict = {True: 1, False: 0}\n",
    "encoded_data.replace(replacement_dict, inplace=True)\n",
    "print(encoded_data)\n",
    "warnings.filterwarnings(\"ignore\")"
   ]
  },
  {
   "cell_type": "code",
   "execution_count": 16,
   "id": "f51ff71f",
   "metadata": {
    "execution": {
     "iopub.execute_input": "2024-04-22T20:10:49.088667Z",
     "iopub.status.busy": "2024-04-22T20:10:49.088306Z",
     "iopub.status.idle": "2024-04-22T20:10:49.108747Z",
     "shell.execute_reply": "2024-04-22T20:10:49.107429Z"
    },
    "id": "ojZVgDDDpomD",
    "outputId": "d1d05265-f8fa-439f-965d-357f6b7062e1",
    "papermill": {
     "duration": 0.033947,
     "end_time": "2024-04-22T20:10:49.111154",
     "exception": false,
     "start_time": "2024-04-22T20:10:49.077207",
     "status": "completed"
    },
    "tags": []
   },
   "outputs": [
    {
     "data": {
      "text/html": [
       "<div>\n",
       "<style scoped>\n",
       "    .dataframe tbody tr th:only-of-type {\n",
       "        vertical-align: middle;\n",
       "    }\n",
       "\n",
       "    .dataframe tbody tr th {\n",
       "        vertical-align: top;\n",
       "    }\n",
       "\n",
       "    .dataframe thead th {\n",
       "        text-align: right;\n",
       "    }\n",
       "</style>\n",
       "<table border=\"1\" class=\"dataframe\">\n",
       "  <thead>\n",
       "    <tr style=\"text-align: right;\">\n",
       "      <th></th>\n",
       "      <th>Age</th>\n",
       "      <th>RestingBP</th>\n",
       "      <th>Cholesterol</th>\n",
       "      <th>FastingBS</th>\n",
       "      <th>MaxHR</th>\n",
       "      <th>Oldpeak</th>\n",
       "      <th>HeartDisease</th>\n",
       "      <th>Sex_F</th>\n",
       "      <th>Sex_M</th>\n",
       "      <th>ChestPainType_ASY</th>\n",
       "      <th>ChestPainType_ATA</th>\n",
       "      <th>ChestPainType_NAP</th>\n",
       "      <th>ChestPainType_TA</th>\n",
       "      <th>RestingECG_LVH</th>\n",
       "      <th>RestingECG_Normal</th>\n",
       "      <th>RestingECG_ST</th>\n",
       "      <th>ExerciseAngina_N</th>\n",
       "      <th>ExerciseAngina_Y</th>\n",
       "      <th>ST_Slope_Down</th>\n",
       "      <th>ST_Slope_Flat</th>\n",
       "      <th>ST_Slope_Up</th>\n",
       "    </tr>\n",
       "  </thead>\n",
       "  <tbody>\n",
       "    <tr>\n",
       "      <th>0</th>\n",
       "      <td>40</td>\n",
       "      <td>140</td>\n",
       "      <td>289</td>\n",
       "      <td>0</td>\n",
       "      <td>172</td>\n",
       "      <td>0.0</td>\n",
       "      <td>0</td>\n",
       "      <td>0</td>\n",
       "      <td>1</td>\n",
       "      <td>0</td>\n",
       "      <td>1</td>\n",
       "      <td>0</td>\n",
       "      <td>0</td>\n",
       "      <td>0</td>\n",
       "      <td>1</td>\n",
       "      <td>0</td>\n",
       "      <td>1</td>\n",
       "      <td>0</td>\n",
       "      <td>0</td>\n",
       "      <td>0</td>\n",
       "      <td>1</td>\n",
       "    </tr>\n",
       "    <tr>\n",
       "      <th>1</th>\n",
       "      <td>49</td>\n",
       "      <td>160</td>\n",
       "      <td>180</td>\n",
       "      <td>0</td>\n",
       "      <td>156</td>\n",
       "      <td>1.0</td>\n",
       "      <td>1</td>\n",
       "      <td>1</td>\n",
       "      <td>0</td>\n",
       "      <td>0</td>\n",
       "      <td>0</td>\n",
       "      <td>1</td>\n",
       "      <td>0</td>\n",
       "      <td>0</td>\n",
       "      <td>1</td>\n",
       "      <td>0</td>\n",
       "      <td>1</td>\n",
       "      <td>0</td>\n",
       "      <td>0</td>\n",
       "      <td>1</td>\n",
       "      <td>0</td>\n",
       "    </tr>\n",
       "    <tr>\n",
       "      <th>2</th>\n",
       "      <td>37</td>\n",
       "      <td>130</td>\n",
       "      <td>283</td>\n",
       "      <td>0</td>\n",
       "      <td>98</td>\n",
       "      <td>0.0</td>\n",
       "      <td>0</td>\n",
       "      <td>0</td>\n",
       "      <td>1</td>\n",
       "      <td>0</td>\n",
       "      <td>1</td>\n",
       "      <td>0</td>\n",
       "      <td>0</td>\n",
       "      <td>0</td>\n",
       "      <td>0</td>\n",
       "      <td>1</td>\n",
       "      <td>1</td>\n",
       "      <td>0</td>\n",
       "      <td>0</td>\n",
       "      <td>0</td>\n",
       "      <td>1</td>\n",
       "    </tr>\n",
       "    <tr>\n",
       "      <th>3</th>\n",
       "      <td>48</td>\n",
       "      <td>138</td>\n",
       "      <td>214</td>\n",
       "      <td>0</td>\n",
       "      <td>108</td>\n",
       "      <td>1.5</td>\n",
       "      <td>1</td>\n",
       "      <td>1</td>\n",
       "      <td>0</td>\n",
       "      <td>1</td>\n",
       "      <td>0</td>\n",
       "      <td>0</td>\n",
       "      <td>0</td>\n",
       "      <td>0</td>\n",
       "      <td>1</td>\n",
       "      <td>0</td>\n",
       "      <td>0</td>\n",
       "      <td>1</td>\n",
       "      <td>0</td>\n",
       "      <td>1</td>\n",
       "      <td>0</td>\n",
       "    </tr>\n",
       "    <tr>\n",
       "      <th>4</th>\n",
       "      <td>54</td>\n",
       "      <td>150</td>\n",
       "      <td>195</td>\n",
       "      <td>0</td>\n",
       "      <td>122</td>\n",
       "      <td>0.0</td>\n",
       "      <td>0</td>\n",
       "      <td>0</td>\n",
       "      <td>1</td>\n",
       "      <td>0</td>\n",
       "      <td>0</td>\n",
       "      <td>1</td>\n",
       "      <td>0</td>\n",
       "      <td>0</td>\n",
       "      <td>1</td>\n",
       "      <td>0</td>\n",
       "      <td>1</td>\n",
       "      <td>0</td>\n",
       "      <td>0</td>\n",
       "      <td>0</td>\n",
       "      <td>1</td>\n",
       "    </tr>\n",
       "    <tr>\n",
       "      <th>...</th>\n",
       "      <td>...</td>\n",
       "      <td>...</td>\n",
       "      <td>...</td>\n",
       "      <td>...</td>\n",
       "      <td>...</td>\n",
       "      <td>...</td>\n",
       "      <td>...</td>\n",
       "      <td>...</td>\n",
       "      <td>...</td>\n",
       "      <td>...</td>\n",
       "      <td>...</td>\n",
       "      <td>...</td>\n",
       "      <td>...</td>\n",
       "      <td>...</td>\n",
       "      <td>...</td>\n",
       "      <td>...</td>\n",
       "      <td>...</td>\n",
       "      <td>...</td>\n",
       "      <td>...</td>\n",
       "      <td>...</td>\n",
       "      <td>...</td>\n",
       "    </tr>\n",
       "    <tr>\n",
       "      <th>913</th>\n",
       "      <td>45</td>\n",
       "      <td>110</td>\n",
       "      <td>264</td>\n",
       "      <td>0</td>\n",
       "      <td>132</td>\n",
       "      <td>1.2</td>\n",
       "      <td>1</td>\n",
       "      <td>0</td>\n",
       "      <td>1</td>\n",
       "      <td>0</td>\n",
       "      <td>0</td>\n",
       "      <td>0</td>\n",
       "      <td>1</td>\n",
       "      <td>0</td>\n",
       "      <td>1</td>\n",
       "      <td>0</td>\n",
       "      <td>1</td>\n",
       "      <td>0</td>\n",
       "      <td>0</td>\n",
       "      <td>1</td>\n",
       "      <td>0</td>\n",
       "    </tr>\n",
       "    <tr>\n",
       "      <th>914</th>\n",
       "      <td>68</td>\n",
       "      <td>144</td>\n",
       "      <td>193</td>\n",
       "      <td>1</td>\n",
       "      <td>141</td>\n",
       "      <td>3.4</td>\n",
       "      <td>1</td>\n",
       "      <td>0</td>\n",
       "      <td>1</td>\n",
       "      <td>1</td>\n",
       "      <td>0</td>\n",
       "      <td>0</td>\n",
       "      <td>0</td>\n",
       "      <td>0</td>\n",
       "      <td>1</td>\n",
       "      <td>0</td>\n",
       "      <td>1</td>\n",
       "      <td>0</td>\n",
       "      <td>0</td>\n",
       "      <td>1</td>\n",
       "      <td>0</td>\n",
       "    </tr>\n",
       "    <tr>\n",
       "      <th>915</th>\n",
       "      <td>57</td>\n",
       "      <td>130</td>\n",
       "      <td>131</td>\n",
       "      <td>0</td>\n",
       "      <td>115</td>\n",
       "      <td>1.2</td>\n",
       "      <td>1</td>\n",
       "      <td>0</td>\n",
       "      <td>1</td>\n",
       "      <td>1</td>\n",
       "      <td>0</td>\n",
       "      <td>0</td>\n",
       "      <td>0</td>\n",
       "      <td>0</td>\n",
       "      <td>1</td>\n",
       "      <td>0</td>\n",
       "      <td>0</td>\n",
       "      <td>1</td>\n",
       "      <td>0</td>\n",
       "      <td>1</td>\n",
       "      <td>0</td>\n",
       "    </tr>\n",
       "    <tr>\n",
       "      <th>916</th>\n",
       "      <td>57</td>\n",
       "      <td>130</td>\n",
       "      <td>236</td>\n",
       "      <td>0</td>\n",
       "      <td>174</td>\n",
       "      <td>0.0</td>\n",
       "      <td>1</td>\n",
       "      <td>1</td>\n",
       "      <td>0</td>\n",
       "      <td>0</td>\n",
       "      <td>1</td>\n",
       "      <td>0</td>\n",
       "      <td>0</td>\n",
       "      <td>1</td>\n",
       "      <td>0</td>\n",
       "      <td>0</td>\n",
       "      <td>1</td>\n",
       "      <td>0</td>\n",
       "      <td>0</td>\n",
       "      <td>1</td>\n",
       "      <td>0</td>\n",
       "    </tr>\n",
       "    <tr>\n",
       "      <th>917</th>\n",
       "      <td>38</td>\n",
       "      <td>138</td>\n",
       "      <td>175</td>\n",
       "      <td>0</td>\n",
       "      <td>173</td>\n",
       "      <td>0.0</td>\n",
       "      <td>0</td>\n",
       "      <td>0</td>\n",
       "      <td>1</td>\n",
       "      <td>0</td>\n",
       "      <td>0</td>\n",
       "      <td>1</td>\n",
       "      <td>0</td>\n",
       "      <td>0</td>\n",
       "      <td>1</td>\n",
       "      <td>0</td>\n",
       "      <td>1</td>\n",
       "      <td>0</td>\n",
       "      <td>0</td>\n",
       "      <td>0</td>\n",
       "      <td>1</td>\n",
       "    </tr>\n",
       "  </tbody>\n",
       "</table>\n",
       "<p>918 rows × 21 columns</p>\n",
       "</div>"
      ],
      "text/plain": [
       "     Age  RestingBP  Cholesterol  FastingBS  MaxHR  Oldpeak  HeartDisease  \\\n",
       "0     40        140          289          0    172      0.0             0   \n",
       "1     49        160          180          0    156      1.0             1   \n",
       "2     37        130          283          0     98      0.0             0   \n",
       "3     48        138          214          0    108      1.5             1   \n",
       "4     54        150          195          0    122      0.0             0   \n",
       "..   ...        ...          ...        ...    ...      ...           ...   \n",
       "913   45        110          264          0    132      1.2             1   \n",
       "914   68        144          193          1    141      3.4             1   \n",
       "915   57        130          131          0    115      1.2             1   \n",
       "916   57        130          236          0    174      0.0             1   \n",
       "917   38        138          175          0    173      0.0             0   \n",
       "\n",
       "     Sex_F  Sex_M  ChestPainType_ASY  ChestPainType_ATA  ChestPainType_NAP  \\\n",
       "0        0      1                  0                  1                  0   \n",
       "1        1      0                  0                  0                  1   \n",
       "2        0      1                  0                  1                  0   \n",
       "3        1      0                  1                  0                  0   \n",
       "4        0      1                  0                  0                  1   \n",
       "..     ...    ...                ...                ...                ...   \n",
       "913      0      1                  0                  0                  0   \n",
       "914      0      1                  1                  0                  0   \n",
       "915      0      1                  1                  0                  0   \n",
       "916      1      0                  0                  1                  0   \n",
       "917      0      1                  0                  0                  1   \n",
       "\n",
       "     ChestPainType_TA  RestingECG_LVH  RestingECG_Normal  RestingECG_ST  \\\n",
       "0                   0               0                  1              0   \n",
       "1                   0               0                  1              0   \n",
       "2                   0               0                  0              1   \n",
       "3                   0               0                  1              0   \n",
       "4                   0               0                  1              0   \n",
       "..                ...             ...                ...            ...   \n",
       "913                 1               0                  1              0   \n",
       "914                 0               0                  1              0   \n",
       "915                 0               0                  1              0   \n",
       "916                 0               1                  0              0   \n",
       "917                 0               0                  1              0   \n",
       "\n",
       "     ExerciseAngina_N  ExerciseAngina_Y  ST_Slope_Down  ST_Slope_Flat  \\\n",
       "0                   1                 0              0              0   \n",
       "1                   1                 0              0              1   \n",
       "2                   1                 0              0              0   \n",
       "3                   0                 1              0              1   \n",
       "4                   1                 0              0              0   \n",
       "..                ...               ...            ...            ...   \n",
       "913                 1                 0              0              1   \n",
       "914                 1                 0              0              1   \n",
       "915                 0                 1              0              1   \n",
       "916                 1                 0              0              1   \n",
       "917                 1                 0              0              0   \n",
       "\n",
       "     ST_Slope_Up  \n",
       "0              1  \n",
       "1              0  \n",
       "2              1  \n",
       "3              0  \n",
       "4              1  \n",
       "..           ...  \n",
       "913            0  \n",
       "914            0  \n",
       "915            0  \n",
       "916            0  \n",
       "917            1  \n",
       "\n",
       "[918 rows x 21 columns]"
      ]
     },
     "execution_count": 16,
     "metadata": {},
     "output_type": "execute_result"
    }
   ],
   "source": [
    "encoded_data"
   ]
  },
  {
   "cell_type": "code",
   "execution_count": 17,
   "id": "1cc94b24",
   "metadata": {
    "execution": {
     "iopub.execute_input": "2024-04-22T20:10:49.133878Z",
     "iopub.status.busy": "2024-04-22T20:10:49.133503Z",
     "iopub.status.idle": "2024-04-22T20:10:50.788043Z",
     "shell.execute_reply": "2024-04-22T20:10:50.786798Z"
    },
    "id": "nu7_yHZHpwAD",
    "papermill": {
     "duration": 1.669037,
     "end_time": "2024-04-22T20:10:50.790762",
     "exception": false,
     "start_time": "2024-04-22T20:10:49.121725",
     "status": "completed"
    },
    "tags": []
   },
   "outputs": [],
   "source": [
    "from sklearn.model_selection import train_test_split as tts\n",
    "from sklearn.linear_model import LogisticRegression as lr\n",
    "from sklearn.ensemble import RandomForestClassifier as rf\n",
    "from sklearn.tree import DecisionTreeClassifier as dt\n",
    "from sklearn.svm import SVC as s\n",
    "from sklearn.metrics import accuracy_score"
   ]
  },
  {
   "cell_type": "code",
   "execution_count": 18,
   "id": "00895d8f",
   "metadata": {
    "execution": {
     "iopub.execute_input": "2024-04-22T20:10:50.813849Z",
     "iopub.status.busy": "2024-04-22T20:10:50.813458Z",
     "iopub.status.idle": "2024-04-22T20:10:50.819717Z",
     "shell.execute_reply": "2024-04-22T20:10:50.818864Z"
    },
    "id": "JUau-SwOqiTi",
    "papermill": {
     "duration": 0.020086,
     "end_time": "2024-04-22T20:10:50.821717",
     "exception": false,
     "start_time": "2024-04-22T20:10:50.801631",
     "status": "completed"
    },
    "tags": []
   },
   "outputs": [],
   "source": [
    "x = encoded_data.drop(columns=['HeartDisease'])\n",
    "y = encoded_data['HeartDisease']"
   ]
  },
  {
   "cell_type": "code",
   "execution_count": 19,
   "id": "559aa8f4",
   "metadata": {
    "execution": {
     "iopub.execute_input": "2024-04-22T20:10:50.845163Z",
     "iopub.status.busy": "2024-04-22T20:10:50.844210Z",
     "iopub.status.idle": "2024-04-22T20:10:50.853212Z",
     "shell.execute_reply": "2024-04-22T20:10:50.852281Z"
    },
    "id": "cPyqqK3zqcQU",
    "papermill": {
     "duration": 0.022993,
     "end_time": "2024-04-22T20:10:50.855430",
     "exception": false,
     "start_time": "2024-04-22T20:10:50.832437",
     "status": "completed"
    },
    "tags": []
   },
   "outputs": [],
   "source": [
    "x_train,x_test,y_train,y_test = tts(x,y,test_size= 0.2,random_state=42)"
   ]
  },
  {
   "cell_type": "code",
   "execution_count": 20,
   "id": "a33740f9",
   "metadata": {
    "execution": {
     "iopub.execute_input": "2024-04-22T20:10:50.878625Z",
     "iopub.status.busy": "2024-04-22T20:10:50.878010Z",
     "iopub.status.idle": "2024-04-22T20:10:50.884888Z",
     "shell.execute_reply": "2024-04-22T20:10:50.883812Z"
    },
    "id": "dlD5V2INqtkl",
    "outputId": "e985066f-e7cf-4adb-fc29-991bc8c2c80f",
    "papermill": {
     "duration": 0.020929,
     "end_time": "2024-04-22T20:10:50.886892",
     "exception": false,
     "start_time": "2024-04-22T20:10:50.865963",
     "status": "completed"
    },
    "tags": []
   },
   "outputs": [
    {
     "data": {
      "text/plain": [
       "((734, 20), (184, 20), (734,), (184,))"
      ]
     },
     "execution_count": 20,
     "metadata": {},
     "output_type": "execute_result"
    }
   ],
   "source": [
    "x_train.shape,x_test.shape,y_train.shape,y_test.shape"
   ]
  },
  {
   "cell_type": "code",
   "execution_count": 21,
   "id": "75b9cdb5",
   "metadata": {
    "execution": {
     "iopub.execute_input": "2024-04-22T20:10:50.910043Z",
     "iopub.status.busy": "2024-04-22T20:10:50.909440Z",
     "iopub.status.idle": "2024-04-22T20:10:50.959939Z",
     "shell.execute_reply": "2024-04-22T20:10:50.958831Z"
    },
    "id": "CA4K_VgWq4vg",
    "outputId": "62857122-3ad5-4d8f-b5c2-79af7204d181",
    "papermill": {
     "duration": 0.065364,
     "end_time": "2024-04-22T20:10:50.962757",
     "exception": false,
     "start_time": "2024-04-22T20:10:50.897393",
     "status": "completed"
    },
    "tags": []
   },
   "outputs": [
    {
     "name": "stdout",
     "output_type": "stream",
     "text": [
      "85.32608695652173\n"
     ]
    }
   ],
   "source": [
    "warnings.filterwarnings(\"ignore\")\n",
    "lR = lr(max_iter =100)\n",
    "lR.fit(x_train,y_train)\n",
    "y_lr_preds = lR.predict(x_test)\n",
    "print(accuracy_score(y_test,y_lr_preds)*100)\n",
    "warnings.filterwarnings(\"ignore\")"
   ]
  },
  {
   "cell_type": "code",
   "execution_count": 22,
   "id": "bb2ef777",
   "metadata": {
    "execution": {
     "iopub.execute_input": "2024-04-22T20:10:51.001019Z",
     "iopub.status.busy": "2024-04-22T20:10:51.000480Z",
     "iopub.status.idle": "2024-04-22T20:10:51.009647Z",
     "shell.execute_reply": "2024-04-22T20:10:51.008584Z"
    },
    "id": "kUUX6iL5rRwB",
    "outputId": "9eedae70-2ffb-4e98-abde-0759d64cb3cb",
    "papermill": {
     "duration": 0.031383,
     "end_time": "2024-04-22T20:10:51.012311",
     "exception": false,
     "start_time": "2024-04-22T20:10:50.980928",
     "status": "completed"
    },
    "tags": []
   },
   "outputs": [
    {
     "data": {
      "text/plain": [
       "{'C': 1.0,\n",
       " 'class_weight': None,\n",
       " 'dual': False,\n",
       " 'fit_intercept': True,\n",
       " 'intercept_scaling': 1,\n",
       " 'l1_ratio': None,\n",
       " 'max_iter': 100,\n",
       " 'multi_class': 'auto',\n",
       " 'n_jobs': None,\n",
       " 'penalty': 'l2',\n",
       " 'random_state': None,\n",
       " 'solver': 'lbfgs',\n",
       " 'tol': 0.0001,\n",
       " 'verbose': 0,\n",
       " 'warm_start': False}"
      ]
     },
     "execution_count": 22,
     "metadata": {},
     "output_type": "execute_result"
    }
   ],
   "source": [
    "lR.get_params()"
   ]
  },
  {
   "cell_type": "code",
   "execution_count": 23,
   "id": "daa919bc",
   "metadata": {
    "execution": {
     "iopub.execute_input": "2024-04-22T20:10:51.050665Z",
     "iopub.status.busy": "2024-04-22T20:10:51.050163Z",
     "iopub.status.idle": "2024-04-22T20:10:51.056685Z",
     "shell.execute_reply": "2024-04-22T20:10:51.055605Z"
    },
    "id": "w5OS1S47sWc0",
    "papermill": {
     "duration": 0.029398,
     "end_time": "2024-04-22T20:10:51.059897",
     "exception": false,
     "start_time": "2024-04-22T20:10:51.030499",
     "status": "completed"
    },
    "tags": []
   },
   "outputs": [],
   "source": [
    "param_grid = {\n",
    "    'penalty': ['l1', 'l2'],\n",
    "    'C': [0.001, 0.01, 0.1, 1, 10, 100],\n",
    "    'solver': ['liblinear', 'saga'],\n",
    "    'max_iter':[500,750,900,910]\n",
    "}"
   ]
  },
  {
   "cell_type": "code",
   "execution_count": 24,
   "id": "f48d6237",
   "metadata": {
    "execution": {
     "iopub.execute_input": "2024-04-22T20:10:51.088504Z",
     "iopub.status.busy": "2024-04-22T20:10:51.088117Z",
     "iopub.status.idle": "2024-04-22T20:11:36.708271Z",
     "shell.execute_reply": "2024-04-22T20:11:36.706863Z"
    },
    "id": "blQAOnkqrd3o",
    "outputId": "7fbc0c5d-93f4-4707-d71e-f53fed3b1974",
    "papermill": {
     "duration": 45.644919,
     "end_time": "2024-04-22T20:11:36.721072",
     "exception": false,
     "start_time": "2024-04-22T20:10:51.076153",
     "status": "completed"
    },
    "tags": []
   },
   "outputs": [
    {
     "name": "stdout",
     "output_type": "stream",
     "text": [
      "86.37498835150497\n"
     ]
    }
   ],
   "source": [
    "warnings.filterwarnings(\"ignore\")\n",
    "from sklearn.model_selection import GridSearchCV\n",
    "grid = GridSearchCV(estimator =lR,param_grid = param_grid,cv = 5)\n",
    "grid.fit(x_train,y_train)\n",
    "grid.predict(x_test)\n",
    "print(grid.best_score_*100)\n",
    "warnings.filterwarnings(\"ignore\")"
   ]
  },
  {
   "cell_type": "code",
   "execution_count": 25,
   "id": "3ba690cc",
   "metadata": {
    "execution": {
     "iopub.execute_input": "2024-04-22T20:11:36.745454Z",
     "iopub.status.busy": "2024-04-22T20:11:36.745029Z",
     "iopub.status.idle": "2024-04-22T20:11:36.750511Z",
     "shell.execute_reply": "2024-04-22T20:11:36.749393Z"
    },
    "id": "sStF8tZ4sKfP",
    "outputId": "39bec777-4423-48e5-967d-da259e84744e",
    "papermill": {
     "duration": 0.021345,
     "end_time": "2024-04-22T20:11:36.753274",
     "exception": false,
     "start_time": "2024-04-22T20:11:36.731929",
     "status": "completed"
    },
    "tags": []
   },
   "outputs": [
    {
     "name": "stdout",
     "output_type": "stream",
     "text": [
      "{'C': 1, 'max_iter': 500, 'penalty': 'l2', 'solver': 'liblinear'}\n"
     ]
    }
   ],
   "source": [
    "print(grid.best_params_)"
   ]
  },
  {
   "cell_type": "code",
   "execution_count": 26,
   "id": "9926bf7f",
   "metadata": {
    "execution": {
     "iopub.execute_input": "2024-04-22T20:11:36.777133Z",
     "iopub.status.busy": "2024-04-22T20:11:36.776750Z",
     "iopub.status.idle": "2024-04-22T20:11:36.793353Z",
     "shell.execute_reply": "2024-04-22T20:11:36.791764Z"
    },
    "id": "aT01uulKszIK",
    "outputId": "9b33c55e-e021-497b-a0a0-e4b677bcaeec",
    "papermill": {
     "duration": 0.031169,
     "end_time": "2024-04-22T20:11:36.795496",
     "exception": false,
     "start_time": "2024-04-22T20:11:36.764327",
     "status": "completed"
    },
    "tags": []
   },
   "outputs": [
    {
     "name": "stdout",
     "output_type": "stream",
     "text": [
      "80.43478260869566\n"
     ]
    }
   ],
   "source": [
    "dT = dt()\n",
    "dT.fit(x_train,y_train)\n",
    "y_dt_pred = dT.predict(x_test)\n",
    "print(accuracy_score(y_test,y_dt_pred)*100)"
   ]
  },
  {
   "cell_type": "code",
   "execution_count": 27,
   "id": "6c2b0f61",
   "metadata": {
    "execution": {
     "iopub.execute_input": "2024-04-22T20:11:36.819584Z",
     "iopub.status.busy": "2024-04-22T20:11:36.819185Z",
     "iopub.status.idle": "2024-04-22T20:11:36.825792Z",
     "shell.execute_reply": "2024-04-22T20:11:36.825045Z"
    },
    "id": "V9x35LH3tXoj",
    "outputId": "9ee09bac-6948-4595-f210-7ea6780c5fa9",
    "papermill": {
     "duration": 0.021063,
     "end_time": "2024-04-22T20:11:36.827671",
     "exception": false,
     "start_time": "2024-04-22T20:11:36.806608",
     "status": "completed"
    },
    "tags": []
   },
   "outputs": [
    {
     "data": {
      "text/plain": [
       "{'ccp_alpha': 0.0,\n",
       " 'class_weight': None,\n",
       " 'criterion': 'gini',\n",
       " 'max_depth': None,\n",
       " 'max_features': None,\n",
       " 'max_leaf_nodes': None,\n",
       " 'min_impurity_decrease': 0.0,\n",
       " 'min_samples_leaf': 1,\n",
       " 'min_samples_split': 2,\n",
       " 'min_weight_fraction_leaf': 0.0,\n",
       " 'random_state': None,\n",
       " 'splitter': 'best'}"
      ]
     },
     "execution_count": 27,
     "metadata": {},
     "output_type": "execute_result"
    }
   ],
   "source": [
    "dT.get_params()"
   ]
  },
  {
   "cell_type": "code",
   "execution_count": 28,
   "id": "e9301b2e",
   "metadata": {
    "execution": {
     "iopub.execute_input": "2024-04-22T20:11:36.852014Z",
     "iopub.status.busy": "2024-04-22T20:11:36.851655Z",
     "iopub.status.idle": "2024-04-22T20:11:36.857131Z",
     "shell.execute_reply": "2024-04-22T20:11:36.856159Z"
    },
    "id": "0WLHclRatup_",
    "papermill": {
     "duration": 0.020189,
     "end_time": "2024-04-22T20:11:36.859040",
     "exception": false,
     "start_time": "2024-04-22T20:11:36.838851",
     "status": "completed"
    },
    "tags": []
   },
   "outputs": [],
   "source": [
    "param_grid_dt = {\n",
    "    'criterion': ['gini', 'entropy'],\n",
    "    'splitter': ['best', 'random'],\n",
    "    'max_depth': [None, 10, 20, 30],\n",
    "    'min_samples_split': [2, 5, 10],\n",
    "    'min_samples_leaf': [1, 2, 4],\n",
    "    'max_features': [None, 'sqrt', 'log2'],\n",
    "    'class_weight': [None, 'balanced'],\n",
    "    'random_state': [None, 42]\n",
    "}"
   ]
  },
  {
   "cell_type": "code",
   "execution_count": 29,
   "id": "51538b94",
   "metadata": {
    "execution": {
     "iopub.execute_input": "2024-04-22T20:11:36.883610Z",
     "iopub.status.busy": "2024-04-22T20:11:36.883180Z",
     "iopub.status.idle": "2024-04-22T20:12:31.532191Z",
     "shell.execute_reply": "2024-04-22T20:12:31.530996Z"
    },
    "id": "iocA02riuGa0",
    "outputId": "17101395-398a-4f1a-f6c8-069aaa686631",
    "papermill": {
     "duration": 54.674893,
     "end_time": "2024-04-22T20:12:31.545288",
     "exception": false,
     "start_time": "2024-04-22T20:11:36.870395",
     "status": "completed"
    },
    "tags": []
   },
   "outputs": [
    {
     "name": "stdout",
     "output_type": "stream",
     "text": [
      "85.55586618208928\n"
     ]
    }
   ],
   "source": [
    "grid = GridSearchCV(estimator =dT,param_grid = param_grid_dt,cv = 5)\n",
    "grid.fit(x_train,y_train)\n",
    "grid.predict(x_test)\n",
    "print(grid.best_score_*100)"
   ]
  },
  {
   "cell_type": "code",
   "execution_count": 30,
   "id": "1e24f4f9",
   "metadata": {
    "execution": {
     "iopub.execute_input": "2024-04-22T20:12:31.570742Z",
     "iopub.status.busy": "2024-04-22T20:12:31.570308Z",
     "iopub.status.idle": "2024-04-22T20:12:31.576048Z",
     "shell.execute_reply": "2024-04-22T20:12:31.574787Z"
    },
    "id": "IHl0_pRjuJ1X",
    "outputId": "e7bcd22b-0edd-46d3-9eee-f9d366266732",
    "papermill": {
     "duration": 0.020948,
     "end_time": "2024-04-22T20:12:31.578200",
     "exception": false,
     "start_time": "2024-04-22T20:12:31.557252",
     "status": "completed"
    },
    "tags": []
   },
   "outputs": [
    {
     "name": "stdout",
     "output_type": "stream",
     "text": [
      "{'class_weight': None, 'criterion': 'gini', 'max_depth': 20, 'max_features': 'log2', 'min_samples_leaf': 4, 'min_samples_split': 10, 'random_state': None, 'splitter': 'random'}\n"
     ]
    }
   ],
   "source": [
    "print(grid.best_params_)"
   ]
  },
  {
   "cell_type": "code",
   "execution_count": 31,
   "id": "58313548",
   "metadata": {
    "execution": {
     "iopub.execute_input": "2024-04-22T20:12:31.603476Z",
     "iopub.status.busy": "2024-04-22T20:12:31.602546Z",
     "iopub.status.idle": "2024-04-22T20:12:31.855859Z",
     "shell.execute_reply": "2024-04-22T20:12:31.854271Z"
    },
    "id": "5ZIkgf7OuQm4",
    "outputId": "06c5f153-775f-4e7e-f904-d5f7880689bd",
    "papermill": {
     "duration": 0.269047,
     "end_time": "2024-04-22T20:12:31.858782",
     "exception": false,
     "start_time": "2024-04-22T20:12:31.589735",
     "status": "completed"
    },
    "tags": []
   },
   "outputs": [
    {
     "name": "stdout",
     "output_type": "stream",
     "text": [
      "88.04347826086956\n"
     ]
    }
   ],
   "source": [
    "rff = rf()\n",
    "rff.fit(x_train,y_train)\n",
    "rf_pred  = rff.predict(x_test)\n",
    "print(accuracy_score(y_test,rf_pred)*100)"
   ]
  },
  {
   "cell_type": "code",
   "execution_count": 32,
   "id": "82d9ba9c",
   "metadata": {
    "execution": {
     "iopub.execute_input": "2024-04-22T20:12:31.892262Z",
     "iopub.status.busy": "2024-04-22T20:12:31.891842Z",
     "iopub.status.idle": "2024-04-22T20:12:31.916016Z",
     "shell.execute_reply": "2024-04-22T20:12:31.914889Z"
    },
    "id": "1J1QwdDYuliG",
    "outputId": "7e9a196d-782d-4a3d-a290-26bb90df6858",
    "papermill": {
     "duration": 0.041298,
     "end_time": "2024-04-22T20:12:31.918183",
     "exception": false,
     "start_time": "2024-04-22T20:12:31.876885",
     "status": "completed"
    },
    "tags": []
   },
   "outputs": [
    {
     "data": {
      "text/html": [
       "<div>\n",
       "<style scoped>\n",
       "    .dataframe tbody tr th:only-of-type {\n",
       "        vertical-align: middle;\n",
       "    }\n",
       "\n",
       "    .dataframe tbody tr th {\n",
       "        vertical-align: top;\n",
       "    }\n",
       "\n",
       "    .dataframe thead th {\n",
       "        text-align: right;\n",
       "    }\n",
       "</style>\n",
       "<table border=\"1\" class=\"dataframe\">\n",
       "  <thead>\n",
       "    <tr style=\"text-align: right;\">\n",
       "      <th></th>\n",
       "      <th>Age</th>\n",
       "      <th>RestingBP</th>\n",
       "      <th>Cholesterol</th>\n",
       "      <th>FastingBS</th>\n",
       "      <th>MaxHR</th>\n",
       "      <th>Oldpeak</th>\n",
       "      <th>HeartDisease</th>\n",
       "      <th>Sex_F</th>\n",
       "      <th>Sex_M</th>\n",
       "      <th>ChestPainType_ASY</th>\n",
       "      <th>ChestPainType_ATA</th>\n",
       "      <th>ChestPainType_NAP</th>\n",
       "      <th>ChestPainType_TA</th>\n",
       "      <th>RestingECG_LVH</th>\n",
       "      <th>RestingECG_Normal</th>\n",
       "      <th>RestingECG_ST</th>\n",
       "      <th>ExerciseAngina_N</th>\n",
       "      <th>ExerciseAngina_Y</th>\n",
       "      <th>ST_Slope_Down</th>\n",
       "      <th>ST_Slope_Flat</th>\n",
       "      <th>ST_Slope_Up</th>\n",
       "    </tr>\n",
       "  </thead>\n",
       "  <tbody>\n",
       "    <tr>\n",
       "      <th>0</th>\n",
       "      <td>40</td>\n",
       "      <td>140</td>\n",
       "      <td>289</td>\n",
       "      <td>0</td>\n",
       "      <td>172</td>\n",
       "      <td>0.0</td>\n",
       "      <td>0</td>\n",
       "      <td>0</td>\n",
       "      <td>1</td>\n",
       "      <td>0</td>\n",
       "      <td>1</td>\n",
       "      <td>0</td>\n",
       "      <td>0</td>\n",
       "      <td>0</td>\n",
       "      <td>1</td>\n",
       "      <td>0</td>\n",
       "      <td>1</td>\n",
       "      <td>0</td>\n",
       "      <td>0</td>\n",
       "      <td>0</td>\n",
       "      <td>1</td>\n",
       "    </tr>\n",
       "    <tr>\n",
       "      <th>1</th>\n",
       "      <td>49</td>\n",
       "      <td>160</td>\n",
       "      <td>180</td>\n",
       "      <td>0</td>\n",
       "      <td>156</td>\n",
       "      <td>1.0</td>\n",
       "      <td>1</td>\n",
       "      <td>1</td>\n",
       "      <td>0</td>\n",
       "      <td>0</td>\n",
       "      <td>0</td>\n",
       "      <td>1</td>\n",
       "      <td>0</td>\n",
       "      <td>0</td>\n",
       "      <td>1</td>\n",
       "      <td>0</td>\n",
       "      <td>1</td>\n",
       "      <td>0</td>\n",
       "      <td>0</td>\n",
       "      <td>1</td>\n",
       "      <td>0</td>\n",
       "    </tr>\n",
       "    <tr>\n",
       "      <th>2</th>\n",
       "      <td>37</td>\n",
       "      <td>130</td>\n",
       "      <td>283</td>\n",
       "      <td>0</td>\n",
       "      <td>98</td>\n",
       "      <td>0.0</td>\n",
       "      <td>0</td>\n",
       "      <td>0</td>\n",
       "      <td>1</td>\n",
       "      <td>0</td>\n",
       "      <td>1</td>\n",
       "      <td>0</td>\n",
       "      <td>0</td>\n",
       "      <td>0</td>\n",
       "      <td>0</td>\n",
       "      <td>1</td>\n",
       "      <td>1</td>\n",
       "      <td>0</td>\n",
       "      <td>0</td>\n",
       "      <td>0</td>\n",
       "      <td>1</td>\n",
       "    </tr>\n",
       "    <tr>\n",
       "      <th>3</th>\n",
       "      <td>48</td>\n",
       "      <td>138</td>\n",
       "      <td>214</td>\n",
       "      <td>0</td>\n",
       "      <td>108</td>\n",
       "      <td>1.5</td>\n",
       "      <td>1</td>\n",
       "      <td>1</td>\n",
       "      <td>0</td>\n",
       "      <td>1</td>\n",
       "      <td>0</td>\n",
       "      <td>0</td>\n",
       "      <td>0</td>\n",
       "      <td>0</td>\n",
       "      <td>1</td>\n",
       "      <td>0</td>\n",
       "      <td>0</td>\n",
       "      <td>1</td>\n",
       "      <td>0</td>\n",
       "      <td>1</td>\n",
       "      <td>0</td>\n",
       "    </tr>\n",
       "    <tr>\n",
       "      <th>4</th>\n",
       "      <td>54</td>\n",
       "      <td>150</td>\n",
       "      <td>195</td>\n",
       "      <td>0</td>\n",
       "      <td>122</td>\n",
       "      <td>0.0</td>\n",
       "      <td>0</td>\n",
       "      <td>0</td>\n",
       "      <td>1</td>\n",
       "      <td>0</td>\n",
       "      <td>0</td>\n",
       "      <td>1</td>\n",
       "      <td>0</td>\n",
       "      <td>0</td>\n",
       "      <td>1</td>\n",
       "      <td>0</td>\n",
       "      <td>1</td>\n",
       "      <td>0</td>\n",
       "      <td>0</td>\n",
       "      <td>0</td>\n",
       "      <td>1</td>\n",
       "    </tr>\n",
       "    <tr>\n",
       "      <th>...</th>\n",
       "      <td>...</td>\n",
       "      <td>...</td>\n",
       "      <td>...</td>\n",
       "      <td>...</td>\n",
       "      <td>...</td>\n",
       "      <td>...</td>\n",
       "      <td>...</td>\n",
       "      <td>...</td>\n",
       "      <td>...</td>\n",
       "      <td>...</td>\n",
       "      <td>...</td>\n",
       "      <td>...</td>\n",
       "      <td>...</td>\n",
       "      <td>...</td>\n",
       "      <td>...</td>\n",
       "      <td>...</td>\n",
       "      <td>...</td>\n",
       "      <td>...</td>\n",
       "      <td>...</td>\n",
       "      <td>...</td>\n",
       "      <td>...</td>\n",
       "    </tr>\n",
       "    <tr>\n",
       "      <th>913</th>\n",
       "      <td>45</td>\n",
       "      <td>110</td>\n",
       "      <td>264</td>\n",
       "      <td>0</td>\n",
       "      <td>132</td>\n",
       "      <td>1.2</td>\n",
       "      <td>1</td>\n",
       "      <td>0</td>\n",
       "      <td>1</td>\n",
       "      <td>0</td>\n",
       "      <td>0</td>\n",
       "      <td>0</td>\n",
       "      <td>1</td>\n",
       "      <td>0</td>\n",
       "      <td>1</td>\n",
       "      <td>0</td>\n",
       "      <td>1</td>\n",
       "      <td>0</td>\n",
       "      <td>0</td>\n",
       "      <td>1</td>\n",
       "      <td>0</td>\n",
       "    </tr>\n",
       "    <tr>\n",
       "      <th>914</th>\n",
       "      <td>68</td>\n",
       "      <td>144</td>\n",
       "      <td>193</td>\n",
       "      <td>1</td>\n",
       "      <td>141</td>\n",
       "      <td>3.4</td>\n",
       "      <td>1</td>\n",
       "      <td>0</td>\n",
       "      <td>1</td>\n",
       "      <td>1</td>\n",
       "      <td>0</td>\n",
       "      <td>0</td>\n",
       "      <td>0</td>\n",
       "      <td>0</td>\n",
       "      <td>1</td>\n",
       "      <td>0</td>\n",
       "      <td>1</td>\n",
       "      <td>0</td>\n",
       "      <td>0</td>\n",
       "      <td>1</td>\n",
       "      <td>0</td>\n",
       "    </tr>\n",
       "    <tr>\n",
       "      <th>915</th>\n",
       "      <td>57</td>\n",
       "      <td>130</td>\n",
       "      <td>131</td>\n",
       "      <td>0</td>\n",
       "      <td>115</td>\n",
       "      <td>1.2</td>\n",
       "      <td>1</td>\n",
       "      <td>0</td>\n",
       "      <td>1</td>\n",
       "      <td>1</td>\n",
       "      <td>0</td>\n",
       "      <td>0</td>\n",
       "      <td>0</td>\n",
       "      <td>0</td>\n",
       "      <td>1</td>\n",
       "      <td>0</td>\n",
       "      <td>0</td>\n",
       "      <td>1</td>\n",
       "      <td>0</td>\n",
       "      <td>1</td>\n",
       "      <td>0</td>\n",
       "    </tr>\n",
       "    <tr>\n",
       "      <th>916</th>\n",
       "      <td>57</td>\n",
       "      <td>130</td>\n",
       "      <td>236</td>\n",
       "      <td>0</td>\n",
       "      <td>174</td>\n",
       "      <td>0.0</td>\n",
       "      <td>1</td>\n",
       "      <td>1</td>\n",
       "      <td>0</td>\n",
       "      <td>0</td>\n",
       "      <td>1</td>\n",
       "      <td>0</td>\n",
       "      <td>0</td>\n",
       "      <td>1</td>\n",
       "      <td>0</td>\n",
       "      <td>0</td>\n",
       "      <td>1</td>\n",
       "      <td>0</td>\n",
       "      <td>0</td>\n",
       "      <td>1</td>\n",
       "      <td>0</td>\n",
       "    </tr>\n",
       "    <tr>\n",
       "      <th>917</th>\n",
       "      <td>38</td>\n",
       "      <td>138</td>\n",
       "      <td>175</td>\n",
       "      <td>0</td>\n",
       "      <td>173</td>\n",
       "      <td>0.0</td>\n",
       "      <td>0</td>\n",
       "      <td>0</td>\n",
       "      <td>1</td>\n",
       "      <td>0</td>\n",
       "      <td>0</td>\n",
       "      <td>1</td>\n",
       "      <td>0</td>\n",
       "      <td>0</td>\n",
       "      <td>1</td>\n",
       "      <td>0</td>\n",
       "      <td>1</td>\n",
       "      <td>0</td>\n",
       "      <td>0</td>\n",
       "      <td>0</td>\n",
       "      <td>1</td>\n",
       "    </tr>\n",
       "  </tbody>\n",
       "</table>\n",
       "<p>918 rows × 21 columns</p>\n",
       "</div>"
      ],
      "text/plain": [
       "     Age  RestingBP  Cholesterol  FastingBS  MaxHR  Oldpeak  HeartDisease  \\\n",
       "0     40        140          289          0    172      0.0             0   \n",
       "1     49        160          180          0    156      1.0             1   \n",
       "2     37        130          283          0     98      0.0             0   \n",
       "3     48        138          214          0    108      1.5             1   \n",
       "4     54        150          195          0    122      0.0             0   \n",
       "..   ...        ...          ...        ...    ...      ...           ...   \n",
       "913   45        110          264          0    132      1.2             1   \n",
       "914   68        144          193          1    141      3.4             1   \n",
       "915   57        130          131          0    115      1.2             1   \n",
       "916   57        130          236          0    174      0.0             1   \n",
       "917   38        138          175          0    173      0.0             0   \n",
       "\n",
       "     Sex_F  Sex_M  ChestPainType_ASY  ChestPainType_ATA  ChestPainType_NAP  \\\n",
       "0        0      1                  0                  1                  0   \n",
       "1        1      0                  0                  0                  1   \n",
       "2        0      1                  0                  1                  0   \n",
       "3        1      0                  1                  0                  0   \n",
       "4        0      1                  0                  0                  1   \n",
       "..     ...    ...                ...                ...                ...   \n",
       "913      0      1                  0                  0                  0   \n",
       "914      0      1                  1                  0                  0   \n",
       "915      0      1                  1                  0                  0   \n",
       "916      1      0                  0                  1                  0   \n",
       "917      0      1                  0                  0                  1   \n",
       "\n",
       "     ChestPainType_TA  RestingECG_LVH  RestingECG_Normal  RestingECG_ST  \\\n",
       "0                   0               0                  1              0   \n",
       "1                   0               0                  1              0   \n",
       "2                   0               0                  0              1   \n",
       "3                   0               0                  1              0   \n",
       "4                   0               0                  1              0   \n",
       "..                ...             ...                ...            ...   \n",
       "913                 1               0                  1              0   \n",
       "914                 0               0                  1              0   \n",
       "915                 0               0                  1              0   \n",
       "916                 0               1                  0              0   \n",
       "917                 0               0                  1              0   \n",
       "\n",
       "     ExerciseAngina_N  ExerciseAngina_Y  ST_Slope_Down  ST_Slope_Flat  \\\n",
       "0                   1                 0              0              0   \n",
       "1                   1                 0              0              1   \n",
       "2                   1                 0              0              0   \n",
       "3                   0                 1              0              1   \n",
       "4                   1                 0              0              0   \n",
       "..                ...               ...            ...            ...   \n",
       "913                 1                 0              0              1   \n",
       "914                 1                 0              0              1   \n",
       "915                 0                 1              0              1   \n",
       "916                 1                 0              0              1   \n",
       "917                 1                 0              0              0   \n",
       "\n",
       "     ST_Slope_Up  \n",
       "0              1  \n",
       "1              0  \n",
       "2              1  \n",
       "3              0  \n",
       "4              1  \n",
       "..           ...  \n",
       "913            0  \n",
       "914            0  \n",
       "915            0  \n",
       "916            0  \n",
       "917            1  \n",
       "\n",
       "[918 rows x 21 columns]"
      ]
     },
     "execution_count": 32,
     "metadata": {},
     "output_type": "execute_result"
    }
   ],
   "source": [
    "encoded_data"
   ]
  },
  {
   "cell_type": "code",
   "execution_count": 33,
   "id": "f38c3d45",
   "metadata": {
    "execution": {
     "iopub.execute_input": "2024-04-22T20:12:31.951658Z",
     "iopub.status.busy": "2024-04-22T20:12:31.950725Z",
     "iopub.status.idle": "2024-04-22T20:12:32.544305Z",
     "shell.execute_reply": "2024-04-22T20:12:32.542935Z"
    },
    "id": "w94-4q0du3wV",
    "outputId": "5da53173-2385-4dbb-a24a-ceb9a4097f6a",
    "papermill": {
     "duration": 0.612252,
     "end_time": "2024-04-22T20:12:32.546907",
     "exception": false,
     "start_time": "2024-04-22T20:12:31.934655",
     "status": "completed"
    },
    "tags": []
   },
   "outputs": [
    {
     "data": {
      "image/png": "[encoded data removed]",
      "text/plain": [
       "<Figure size 640x480 with 1 Axes>"
      ]
     },
     "metadata": {},
     "output_type": "display_data"
    }
   ],
   "source": [
    "import seaborn as sns\n",
    "sns.countplot(x=\"Sex_M\", hue=\"HeartDisease\", data=encoded_data)\n",
    "plt.show()"
   ]
  },
  {
   "cell_type": "code",
   "execution_count": 34,
   "id": "715806c8",
   "metadata": {
    "execution": {
     "iopub.execute_input": "2024-04-22T20:12:32.574912Z",
     "iopub.status.busy": "2024-04-22T20:12:32.574533Z",
     "iopub.status.idle": "2024-04-22T20:12:32.586475Z",
     "shell.execute_reply": "2024-04-22T20:12:32.585147Z"
    },
    "id": "iIxrkYEWvPsP",
    "outputId": "61c5cfbe-a862-4a8b-f230-3c35d7cb23f3",
    "papermill": {
     "duration": 0.029455,
     "end_time": "2024-04-22T20:12:32.589407",
     "exception": false,
     "start_time": "2024-04-22T20:12:32.559952",
     "status": "completed"
    },
    "tags": []
   },
   "outputs": [
    {
     "data": {
      "text/plain": [
       "Sex_M\n",
       "1    725\n",
       "0    193\n",
       "Name: count, dtype: int64"
      ]
     },
     "execution_count": 34,
     "metadata": {},
     "output_type": "execute_result"
    }
   ],
   "source": [
    "encoded_data['Sex_M'].value_counts()"
   ]
  },
  {
   "cell_type": "code",
   "execution_count": 35,
   "id": "78b2eca7",
   "metadata": {
    "execution": {
     "iopub.execute_input": "2024-04-22T20:12:32.625595Z",
     "iopub.status.busy": "2024-04-22T20:12:32.624200Z",
     "iopub.status.idle": "2024-04-22T20:12:32.841392Z",
     "shell.execute_reply": "2024-04-22T20:12:32.840096Z"
    },
    "id": "Jr6iDWTOvjae",
    "outputId": "84e01479-0116-40f8-c083-01156ac32847",
    "papermill": {
     "duration": 0.236728,
     "end_time": "2024-04-22T20:12:32.844112",
     "exception": false,
     "start_time": "2024-04-22T20:12:32.607384",
     "status": "completed"
    },
    "tags": []
   },
   "outputs": [
    {
     "data": {
      "image/png": "[encoded data removed]",
      "text/plain": [
       "<Figure size 640x480 with 1 Axes>"
      ]
     },
     "metadata": {},
     "output_type": "display_data"
    }
   ],
   "source": [
    "import seaborn as sns\n",
    "sns.countplot(x=\"Sex_F\", hue=\"HeartDisease\", data=encoded_data)\n",
    "plt.show()"
   ]
  },
  {
   "cell_type": "code",
   "execution_count": 36,
   "id": "b57ab989",
   "metadata": {
    "execution": {
     "iopub.execute_input": "2024-04-22T20:12:32.873302Z",
     "iopub.status.busy": "2024-04-22T20:12:32.872905Z",
     "iopub.status.idle": "2024-04-22T20:12:32.880983Z",
     "shell.execute_reply": "2024-04-22T20:12:32.879849Z"
    },
    "id": "zJ2Ez_hKvp49",
    "outputId": "d391cd2e-0b87-44d0-f626-d2672266eb29",
    "papermill": {
     "duration": 0.025206,
     "end_time": "2024-04-22T20:12:32.883294",
     "exception": false,
     "start_time": "2024-04-22T20:12:32.858088",
     "status": "completed"
    },
    "tags": []
   },
   "outputs": [
    {
     "data": {
      "text/plain": [
       "Sex_F\n",
       "0    725\n",
       "1    193\n",
       "Name: count, dtype: int64"
      ]
     },
     "execution_count": 36,
     "metadata": {},
     "output_type": "execute_result"
    }
   ],
   "source": [
    "encoded_data['Sex_F'].value_counts()"
   ]
  },
  {
   "cell_type": "code",
   "execution_count": 37,
   "id": "43f59881",
   "metadata": {
    "execution": {
     "iopub.execute_input": "2024-04-22T20:12:32.912552Z",
     "iopub.status.busy": "2024-04-22T20:12:32.912179Z",
     "iopub.status.idle": "2024-04-22T20:12:33.127419Z",
     "shell.execute_reply": "2024-04-22T20:12:33.126146Z"
    },
    "id": "sDAJeGDGv66n",
    "outputId": "5336f1e2-a0c8-4795-ac2a-3dac19dba7ea",
    "papermill": {
     "duration": 0.233235,
     "end_time": "2024-04-22T20:12:33.130497",
     "exception": false,
     "start_time": "2024-04-22T20:12:32.897262",
     "status": "completed"
    },
    "tags": []
   },
   "outputs": [
    {
     "data": {
      "image/png": "[encoded data removed]",
      "text/plain": [
       "<Figure size 640x480 with 1 Axes>"
      ]
     },
     "metadata": {},
     "output_type": "display_data"
    }
   ],
   "source": [
    "models = ['LogisticRegression', 'DecisionTree', 'RandomForest']\n",
    "accuracy = [86.37, 85.82,88.04]\n",
    "\n",
    "plt.bar(models, accuracy)\n",
    "\n",
    "plt.xlabel('Model')\n",
    "plt.ylabel('Accuracy')\n",
    "plt.title('Accuracy of Different Models')\n",
    "\n",
    "\n",
    "plt.show()"
   ]
  },
  {
   "cell_type": "code",
   "execution_count": null,
   "id": "559e1db4",
   "metadata": {
    "id": "mEbyfvD1vsiq",
    "papermill": {
     "duration": 0.014239,
     "end_time": "2024-04-22T20:12:33.223218",
     "exception": false,
     "start_time": "2024-04-22T20:12:33.208979",
     "status": "completed"
    },
    "tags": []
   },
   "outputs": [],
   "source": []
  },
  {
   "cell_type": "code",
   "execution_count": null,
   "id": "c3db4ae2",
   "metadata": {
    "id": "siFQXd69wYXu",
    "papermill": {
     "duration": 0.014124,
     "end_time": "2024-04-22T20:12:33.252370",
     "exception": false,
     "start_time": "2024-04-22T20:12:33.238246",
     "status": "completed"
    },
    "tags": []
   },
   "outputs": [],
   "source": []
  }
 ],
 "metadata": {
  "colab": {
   "provenance": []
  },
  "kaggle": {
   "accelerator": "none",
   "dataSources": [
    {
     "datasetId": 1582403,
     "sourceId": 2603715,
     "sourceType": "datasetVersion"
    }
   ],
   "dockerImageVersionId": 30702,
   "isGpuEnabled": false,
   "isInternetEnabled": true,
   "language": "python",
   "sourceType": "notebook"
  },
  "kernelspec": {
   "display_name": "Python 3",
   "language": "python",
   "name": "python3"
  },
  "language_info": {
   "codemirror_mode": {
    "name": "ipython",
    "version": 3
   },
   "file_extension": ".py",
   "mimetype": "text/x-python",
   "name": "python",
   "nbconvert_exporter": "python",
   "pygments_lexer": "ipython3",
   "version": "3.10.13"
  },
  "papermill": {
   "default_parameters": {},
   "duration": 109.255066,
   "end_time": "2024-04-22T20:12:33.889796",
   "environment_variables": {},
   "exception": null,
   "input_path": "__notebook__.ipynb",
   "output_path": "__notebook__.ipynb",
   "parameters": {},
   "start_time": "2024-04-22T20:10:44.634730",
   "version": "2.5.0"
  }
 },
 "nbformat": 4,
 "nbformat_minor": 5
}
